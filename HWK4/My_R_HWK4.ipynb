{
  "nbformat": 4,
  "nbformat_minor": 0,
  "metadata": {
    "colab": {
      "provenance": []
    },
    "kernelspec": {
      "name": "ir",
      "display_name": "R"
    },
    "language_info": {
      "name": "R"
    }
  },
  "cells": [
    {
      "cell_type": "code",
      "execution_count": 22,
      "metadata": {
        "colab": {
          "base_uri": "https://localhost:8080/",
          "height": 34
        },
        "id": "TlrAVkzyScIs",
        "outputId": "c7f93c56-bd73-449d-9efb-a9100acca63c"
      },
      "outputs": [
        {
          "output_type": "display_data",
          "data": {
            "text/html": [
              "'R version 4.4.2 (2024-10-31)'"
            ],
            "text/markdown": "'R version 4.4.2 (2024-10-31)'",
            "text/latex": "'R version 4.4.2 (2024-10-31)'",
            "text/plain": [
              "[1] \"R version 4.4.2 (2024-10-31)\""
            ]
          },
          "metadata": {}
        }
      ],
      "source": [
        "# Check if R is running in Colab\n",
        "R.version.string"
      ]
    },
    {
      "cell_type": "code",
      "source": [
        "install.packages(c(\"dplyr\", \"readr\"))"
      ],
      "metadata": {
        "colab": {
          "base_uri": "https://localhost:8080/"
        },
        "id": "7pyj1_QlTZOk",
        "outputId": "f56bf0ed-671e-4552-a903-a27cb8c95cf9"
      },
      "execution_count": 23,
      "outputs": [
        {
          "output_type": "stream",
          "name": "stderr",
          "text": [
            "Installing packages into ‘/usr/local/lib/R/site-library’\n",
            "(as ‘lib’ is unspecified)\n",
            "\n"
          ]
        }
      ]
    },
    {
      "cell_type": "code",
      "source": [
        "# Define file URLs\n",
        "url_county_pop <- \"https://raw.githubusercontent.com/opencasestudies/ocs-bp-opioid-rural-urban/master/data/simpler_import/county_pop_arcos.csv\"\n",
        "url_land_area <- \"https://raw.githubusercontent.com/opencasestudies/ocs-bp-opioid-rural-urban/master/data/simpler_import/land_area.csv\"\n",
        "url_county_annual <- \"https://raw.githubusercontent.com/opencasestudies/ocs-bp-opioid-rural-urban/master/data/simpler_import/county_annual.csv\"\n",
        "\n",
        "# Define file paths to save in Colab's /content/ directory\n",
        "file_county_pop <- \"/content/county_pop_arcos.csv\"\n",
        "file_land_area <- \"/content/land_area.csv\"\n",
        "file_county_annual <- \"/content/county_annual.csv\"\n",
        "\n",
        "# Download the files\n",
        "download.file(url_county_pop, file_county_pop, method = \"curl\")\n",
        "download.file(url_land_area, file_land_area, method = \"curl\")\n",
        "download.file(url_county_annual, file_county_annual, method = \"curl\")\n",
        "\n",
        "# Verify that the files exist\n",
        "list.files(\"/content/\")\n"
      ],
      "metadata": {
        "colab": {
          "base_uri": "https://localhost:8080/",
          "height": 34
        },
        "id": "QE5J9ArjT0C-",
        "outputId": "8f811f37-3b13-4f6f-83f4-5f18bdd92092"
      },
      "execution_count": 24,
      "outputs": [
        {
          "output_type": "display_data",
          "data": {
            "text/html": [
              "<style>\n",
              ".list-inline {list-style: none; margin:0; padding: 0}\n",
              ".list-inline>li {display: inline-block}\n",
              ".list-inline>li:not(:last-child)::after {content: \"\\00b7\"; padding: 0 .5ex}\n",
              "</style>\n",
              "<ol class=list-inline><li>'county_annual.csv'</li><li>'county_pop_arcos.csv'</li><li>'land_area.csv'</li><li>'sample_data'</li></ol>\n"
            ],
            "text/markdown": "1. 'county_annual.csv'\n2. 'county_pop_arcos.csv'\n3. 'land_area.csv'\n4. 'sample_data'\n\n\n",
            "text/latex": "\\begin{enumerate*}\n\\item 'county\\_annual.csv'\n\\item 'county\\_pop\\_arcos.csv'\n\\item 'land\\_area.csv'\n\\item 'sample\\_data'\n\\end{enumerate*}\n",
            "text/plain": [
              "[1] \"county_annual.csv\"    \"county_pop_arcos.csv\" \"land_area.csv\"       \n",
              "[4] \"sample_data\"         "
            ]
          },
          "metadata": {}
        }
      ]
    },
    {
      "cell_type": "code",
      "source": [
        "# Load required libraries\n",
        "library(dplyr)\n",
        "library(readr)\n",
        "library(tidyr)\n",
        "\n",
        "\n",
        "# Read the file into a dataframe\n",
        "df_county_annual <- read_csv(\"/content/county_annual.csv\")\n",
        "df_county_pop <- read_csv(\"/content/county_pop_arcos.csv\")\n",
        "df_land_area <- read_csv(\"/content/land_area.csv\")\n",
        "\n",
        "# Print dataset summaries\n",
        "print(dim(df_county_annual))\n",
        "print(dim(df_county_pop))\n",
        "print(dim(df_land_area))\n",
        "\n",
        "# Print column names to verify it was loaded\n",
        "colnames(df_county_annual)\n",
        "\n",
        "# Print the first few rows\n",
        "##print(head(df_county_annual))\n"
      ],
      "metadata": {
        "colab": {
          "base_uri": "https://localhost:8080/",
          "height": 633
        },
        "id": "QZuswAa8aWUU",
        "outputId": "fc05d5cd-4c9b-492b-a637-d14eb0199947"
      },
      "execution_count": 27,
      "outputs": [
        {
          "output_type": "stream",
          "name": "stderr",
          "text": [
            "\u001b[1m\u001b[22mNew names:\n",
            "\u001b[36m•\u001b[39m `` -> `...1`\n",
            "\u001b[1mRows: \u001b[22m\u001b[34m27758\u001b[39m \u001b[1mColumns: \u001b[22m\u001b[34m7\u001b[39m\n",
            "\u001b[36m──\u001b[39m \u001b[1mColumn specification\u001b[22m \u001b[36m────────────────────────────────────────────────────────\u001b[39m\n",
            "\u001b[1mDelimiter:\u001b[22m \",\"\n",
            "\u001b[31mchr\u001b[39m (3): BUYER_COUNTY, BUYER_STATE, countyfips\n",
            "\u001b[32mdbl\u001b[39m (4): ...1, year, count, DOSAGE_UNIT\n",
            "\n",
            "\u001b[36mℹ\u001b[39m Use `spec()` to retrieve the full column specification for this data.\n",
            "\u001b[36mℹ\u001b[39m Specify the column types or set `show_col_types = FALSE` to quiet this message.\n",
            "\u001b[1m\u001b[22mNew names:\n",
            "\u001b[36m•\u001b[39m `` -> `...1`\n",
            "\u001b[1mRows: \u001b[22m\u001b[34m28265\u001b[39m \u001b[1mColumns: \u001b[22m\u001b[34m11\u001b[39m\n",
            "\u001b[36m──\u001b[39m \u001b[1mColumn specification\u001b[22m \u001b[36m────────────────────────────────────────────────────────\u001b[39m\n",
            "\u001b[1mDelimiter:\u001b[22m \",\"\n",
            "\u001b[31mchr\u001b[39m (6): BUYER_COUNTY, BUYER_STATE, countyfips, county_name, NAME, variable\n",
            "\u001b[32mdbl\u001b[39m (5): ...1, STATE, COUNTY, year, population\n",
            "\n",
            "\u001b[36mℹ\u001b[39m Use `spec()` to retrieve the full column specification for this data.\n",
            "\u001b[36mℹ\u001b[39m Specify the column types or set `show_col_types = FALSE` to quiet this message.\n",
            "\u001b[1m\u001b[22mNew names:\n",
            "\u001b[36m•\u001b[39m `` -> `...1`\n",
            "\u001b[1mRows: \u001b[22m\u001b[34m3198\u001b[39m \u001b[1mColumns: \u001b[22m\u001b[34m35\u001b[39m\n",
            "\u001b[36m──\u001b[39m \u001b[1mColumn specification\u001b[22m \u001b[36m────────────────────────────────────────────────────────\u001b[39m\n",
            "\u001b[1mDelimiter:\u001b[22m \",\"\n",
            "\u001b[31mchr\u001b[39m (18): Areaname, STCOU, LND010190N1, LND010190N2, LND010200N1, LND010200N...\n",
            "\u001b[32mdbl\u001b[39m (17): ...1, LND010190F, LND010190D, LND010200F, LND010200D, LND110180F, ...\n",
            "\n",
            "\u001b[36mℹ\u001b[39m Use `spec()` to retrieve the full column specification for this data.\n",
            "\u001b[36mℹ\u001b[39m Specify the column types or set `show_col_types = FALSE` to quiet this message.\n"
          ]
        },
        {
          "output_type": "stream",
          "name": "stdout",
          "text": [
            "[1] 27758     7\n",
            "[1] 28265    11\n",
            "[1] 3198   35\n"
          ]
        },
        {
          "output_type": "display_data",
          "data": {
            "text/html": [
              "<style>\n",
              ".list-inline {list-style: none; margin:0; padding: 0}\n",
              ".list-inline>li {display: inline-block}\n",
              ".list-inline>li:not(:last-child)::after {content: \"\\00b7\"; padding: 0 .5ex}\n",
              "</style>\n",
              "<ol class=list-inline><li>'...1'</li><li>'BUYER_COUNTY'</li><li>'BUYER_STATE'</li><li>'year'</li><li>'count'</li><li>'DOSAGE_UNIT'</li><li>'countyfips'</li></ol>\n"
            ],
            "text/markdown": "1. '...1'\n2. 'BUYER_COUNTY'\n3. 'BUYER_STATE'\n4. 'year'\n5. 'count'\n6. 'DOSAGE_UNIT'\n7. 'countyfips'\n\n\n",
            "text/latex": "\\begin{enumerate*}\n\\item '...1'\n\\item 'BUYER\\_COUNTY'\n\\item 'BUYER\\_STATE'\n\\item 'year'\n\\item 'count'\n\\item 'DOSAGE\\_UNIT'\n\\item 'countyfips'\n\\end{enumerate*}\n",
            "text/plain": [
              "[1] \"...1\"         \"BUYER_COUNTY\" \"BUYER_STATE\"  \"year\"         \"count\"       \n",
              "[6] \"DOSAGE_UNIT\"  \"countyfips\"  "
            ]
          },
          "metadata": {}
        }
      ]
    },
    {
      "cell_type": "code",
      "source": [
        "# Rename STCOU to countyfips in df_land_area\n",
        "df_land_area <- df_land_area %>% rename(countyfips = STCOU)\n",
        "\n",
        "# Convert data types for consistency\n",
        "df_county_annual <- df_county_annual %>%\n",
        "  mutate(year = as.integer(year), countyfips = as.integer(countyfips))\n",
        "\n",
        "df_county_pop <- df_county_pop %>%\n",
        "  mutate(year = as.integer(year), countyfips = as.integer(countyfips))\n",
        "\n",
        "df_land_area <- df_land_area %>%\n",
        "  mutate(countyfips = as.integer(countyfips))"
      ],
      "metadata": {
        "id": "XPAsL3FVcq5y"
      },
      "execution_count": 28,
      "outputs": []
    },
    {
      "cell_type": "code",
      "source": [
        "df_merged <- df_county_annual %>%\n",
        "  left_join(df_county_pop, by = c(\"year\", \"countyfips\")) %>%\n",
        "  left_join(df_land_area, by = \"countyfips\")\n",
        "\n",
        "# Print first few rows after merging\n",
        "print(head(df_merged))\n"
      ],
      "metadata": {
        "colab": {
          "base_uri": "https://localhost:8080/"
        },
        "id": "VaLDJqjkfjeq",
        "outputId": "4d7fe777-6346-4ced-bb0b-5bd21c8cea66"
      },
      "execution_count": 29,
      "outputs": [
        {
          "output_type": "stream",
          "name": "stdout",
          "text": [
            "\u001b[90m# A tibble: 6 × 50\u001b[39m\n",
            "  ...1.x BUYER_COUNTY.x BUYER_STATE.x  year count DOSAGE_UNIT countyfips ...1.y\n",
            "   \u001b[3m\u001b[90m<dbl>\u001b[39m\u001b[23m \u001b[3m\u001b[90m<chr>\u001b[39m\u001b[23m          \u001b[3m\u001b[90m<chr>\u001b[39m\u001b[23m         \u001b[3m\u001b[90m<int>\u001b[39m\u001b[23m \u001b[3m\u001b[90m<dbl>\u001b[39m\u001b[23m       \u001b[3m\u001b[90m<dbl>\u001b[39m\u001b[23m      \u001b[3m\u001b[90m<int>\u001b[39m\u001b[23m  \u001b[3m\u001b[90m<dbl>\u001b[39m\u001b[23m\n",
            "\u001b[90m1\u001b[39m      1 ABBEVILLE      SC             \u001b[4m2\u001b[24m006   877      \u001b[4m3\u001b[24m\u001b[4m6\u001b[24m\u001b[4m3\u001b[24m620      \u001b[4m4\u001b[24m\u001b[4m5\u001b[24m001   \u001b[4m2\u001b[24m313\n",
            "\u001b[90m2\u001b[39m      2 ABBEVILLE      SC             \u001b[4m2\u001b[24m007   908      \u001b[4m4\u001b[24m\u001b[4m0\u001b[24m\u001b[4m2\u001b[24m940      \u001b[4m4\u001b[24m\u001b[4m5\u001b[24m001   \u001b[4m5\u001b[24m455\n",
            "\u001b[90m3\u001b[39m      3 ABBEVILLE      SC             \u001b[4m2\u001b[24m008   871      \u001b[4m4\u001b[24m\u001b[4m2\u001b[24m\u001b[4m4\u001b[24m590      \u001b[4m4\u001b[24m\u001b[4m5\u001b[24m001   \u001b[4m8\u001b[24m597\n",
            "\u001b[90m4\u001b[39m      4 ABBEVILLE      SC             \u001b[4m2\u001b[24m009   930      \u001b[4m4\u001b[24m\u001b[4m6\u001b[24m\u001b[4m7\u001b[24m230      \u001b[4m4\u001b[24m\u001b[4m5\u001b[24m001  \u001b[4m1\u001b[24m\u001b[4m1\u001b[24m737\n",
            "\u001b[90m5\u001b[39m      5 ABBEVILLE      SC             \u001b[4m2\u001b[24m010  \u001b[4m1\u001b[24m197      \u001b[4m5\u001b[24m\u001b[4m3\u001b[24m\u001b[4m9\u001b[24m280      \u001b[4m4\u001b[24m\u001b[4m5\u001b[24m001  \u001b[4m1\u001b[24m\u001b[4m4\u001b[24m877\n",
            "\u001b[90m6\u001b[39m      6 ABBEVILLE      SC             \u001b[4m2\u001b[24m011  \u001b[4m1\u001b[24m327      \u001b[4m5\u001b[24m\u001b[4m6\u001b[24m\u001b[4m6\u001b[24m560      \u001b[4m4\u001b[24m\u001b[4m5\u001b[24m001  \u001b[4m1\u001b[24m\u001b[4m8\u001b[24m017\n",
            "\u001b[90m# ℹ 42 more variables: BUYER_COUNTY.y <chr>, BUYER_STATE.y <chr>, STATE <dbl>,\u001b[39m\n",
            "\u001b[90m#   COUNTY <dbl>, county_name <chr>, NAME <chr>, variable <chr>,\u001b[39m\n",
            "\u001b[90m#   population <dbl>, ...1 <dbl>, Areaname <chr>, LND010190F <dbl>,\u001b[39m\n",
            "\u001b[90m#   LND010190D <dbl>, LND010190N1 <chr>, LND010190N2 <chr>, LND010200F <dbl>,\u001b[39m\n",
            "\u001b[90m#   LND010200D <dbl>, LND010200N1 <chr>, LND010200N2 <chr>, LND110180F <dbl>,\u001b[39m\n",
            "\u001b[90m#   LND110180D <dbl>, LND110180N1 <chr>, LND110180N2 <chr>, LND110190F <dbl>,\u001b[39m\n",
            "\u001b[90m#   LND110190D <dbl>, LND110190N1 <chr>, LND110190N2 <chr>, LND110200F <dbl>, …\u001b[39m\n"
          ]
        }
      ]
    },
    {
      "cell_type": "code",
      "source": [
        "# compute per capita opiod pills\n",
        "df_merged <- df_merged %>%\n",
        "  mutate(opioid_pills_per_capita = ifelse(population > 0, DOSAGE_UNIT / population, NA))\n",
        "\n",
        "# Print updated dataset\n",
        "print(head(df_merged))\n"
      ],
      "metadata": {
        "colab": {
          "base_uri": "https://localhost:8080/"
        },
        "id": "Xcg_bsyVfm-l",
        "outputId": "bcd2c6f1-f726-4a56-ca61-e3c2a4dd6a91"
      },
      "execution_count": 30,
      "outputs": [
        {
          "output_type": "stream",
          "name": "stdout",
          "text": [
            "\u001b[90m# A tibble: 6 × 51\u001b[39m\n",
            "  ...1.x BUYER_COUNTY.x BUYER_STATE.x  year count DOSAGE_UNIT countyfips ...1.y\n",
            "   \u001b[3m\u001b[90m<dbl>\u001b[39m\u001b[23m \u001b[3m\u001b[90m<chr>\u001b[39m\u001b[23m          \u001b[3m\u001b[90m<chr>\u001b[39m\u001b[23m         \u001b[3m\u001b[90m<int>\u001b[39m\u001b[23m \u001b[3m\u001b[90m<dbl>\u001b[39m\u001b[23m       \u001b[3m\u001b[90m<dbl>\u001b[39m\u001b[23m      \u001b[3m\u001b[90m<int>\u001b[39m\u001b[23m  \u001b[3m\u001b[90m<dbl>\u001b[39m\u001b[23m\n",
            "\u001b[90m1\u001b[39m      1 ABBEVILLE      SC             \u001b[4m2\u001b[24m006   877      \u001b[4m3\u001b[24m\u001b[4m6\u001b[24m\u001b[4m3\u001b[24m620      \u001b[4m4\u001b[24m\u001b[4m5\u001b[24m001   \u001b[4m2\u001b[24m313\n",
            "\u001b[90m2\u001b[39m      2 ABBEVILLE      SC             \u001b[4m2\u001b[24m007   908      \u001b[4m4\u001b[24m\u001b[4m0\u001b[24m\u001b[4m2\u001b[24m940      \u001b[4m4\u001b[24m\u001b[4m5\u001b[24m001   \u001b[4m5\u001b[24m455\n",
            "\u001b[90m3\u001b[39m      3 ABBEVILLE      SC             \u001b[4m2\u001b[24m008   871      \u001b[4m4\u001b[24m\u001b[4m2\u001b[24m\u001b[4m4\u001b[24m590      \u001b[4m4\u001b[24m\u001b[4m5\u001b[24m001   \u001b[4m8\u001b[24m597\n",
            "\u001b[90m4\u001b[39m      4 ABBEVILLE      SC             \u001b[4m2\u001b[24m009   930      \u001b[4m4\u001b[24m\u001b[4m6\u001b[24m\u001b[4m7\u001b[24m230      \u001b[4m4\u001b[24m\u001b[4m5\u001b[24m001  \u001b[4m1\u001b[24m\u001b[4m1\u001b[24m737\n",
            "\u001b[90m5\u001b[39m      5 ABBEVILLE      SC             \u001b[4m2\u001b[24m010  \u001b[4m1\u001b[24m197      \u001b[4m5\u001b[24m\u001b[4m3\u001b[24m\u001b[4m9\u001b[24m280      \u001b[4m4\u001b[24m\u001b[4m5\u001b[24m001  \u001b[4m1\u001b[24m\u001b[4m4\u001b[24m877\n",
            "\u001b[90m6\u001b[39m      6 ABBEVILLE      SC             \u001b[4m2\u001b[24m011  \u001b[4m1\u001b[24m327      \u001b[4m5\u001b[24m\u001b[4m6\u001b[24m\u001b[4m6\u001b[24m560      \u001b[4m4\u001b[24m\u001b[4m5\u001b[24m001  \u001b[4m1\u001b[24m\u001b[4m8\u001b[24m017\n",
            "\u001b[90m# ℹ 43 more variables: BUYER_COUNTY.y <chr>, BUYER_STATE.y <chr>, STATE <dbl>,\u001b[39m\n",
            "\u001b[90m#   COUNTY <dbl>, county_name <chr>, NAME <chr>, variable <chr>,\u001b[39m\n",
            "\u001b[90m#   population <dbl>, ...1 <dbl>, Areaname <chr>, LND010190F <dbl>,\u001b[39m\n",
            "\u001b[90m#   LND010190D <dbl>, LND010190N1 <chr>, LND010190N2 <chr>, LND010200F <dbl>,\u001b[39m\n",
            "\u001b[90m#   LND010200D <dbl>, LND010200N1 <chr>, LND010200N2 <chr>, LND110180F <dbl>,\u001b[39m\n",
            "\u001b[90m#   LND110180D <dbl>, LND110180N1 <chr>, LND110180N2 <chr>, LND110190F <dbl>,\u001b[39m\n",
            "\u001b[90m#   LND110190D <dbl>, LND110190N1 <chr>, LND110190N2 <chr>, LND110200F <dbl>, …\u001b[39m\n"
          ]
        }
      ]
    },
    {
      "cell_type": "code",
      "source": [
        "df_yearly_avg <- df_merged %>%\n",
        "  group_by(year) %>%\n",
        "  summarise(avg_pills_per_capita = mean(opioid_pills_per_capita, na.rm = TRUE))\n",
        "\n",
        "# Print yearly averages\n",
        "print(df_yearly_avg)\n"
      ],
      "metadata": {
        "colab": {
          "base_uri": "https://localhost:8080/"
        },
        "id": "JM8AeDZsfz9O",
        "outputId": "eaecea18-52b0-49d7-d5b6-fa9359d88bca"
      },
      "execution_count": 31,
      "outputs": [
        {
          "output_type": "stream",
          "name": "stdout",
          "text": [
            "\u001b[90m# A tibble: 9 × 2\u001b[39m\n",
            "   year avg_pills_per_capita\n",
            "  \u001b[3m\u001b[90m<int>\u001b[39m\u001b[23m                \u001b[3m\u001b[90m<dbl>\u001b[39m\u001b[23m\n",
            "\u001b[90m1\u001b[39m  \u001b[4m2\u001b[24m006                 28.8\n",
            "\u001b[90m2\u001b[39m  \u001b[4m2\u001b[24m007                 32.5\n",
            "\u001b[90m3\u001b[39m  \u001b[4m2\u001b[24m008                 35.5\n",
            "\u001b[90m4\u001b[39m  \u001b[4m2\u001b[24m009                 39.1\n",
            "\u001b[90m5\u001b[39m  \u001b[4m2\u001b[24m010                 41.5\n",
            "\u001b[90m6\u001b[39m  \u001b[4m2\u001b[24m011                 45.0\n",
            "\u001b[90m7\u001b[39m  \u001b[4m2\u001b[24m012                 45.7\n",
            "\u001b[90m8\u001b[39m  \u001b[4m2\u001b[24m013                 44.4\n",
            "\u001b[90m9\u001b[39m  \u001b[4m2\u001b[24m014                 43.3\n"
          ]
        }
      ]
    },
    {
      "cell_type": "code",
      "source": [
        "# save the data\n",
        "write_csv(df_yearly_avg, \"/content/opioid_yearly_avg.csv\")\n",
        "print(\"✅ Processed data saved as 'opioid_yearly_avg.csv'\")\n"
      ],
      "metadata": {
        "colab": {
          "base_uri": "https://localhost:8080/"
        },
        "id": "6D-3WLPuf6CI",
        "outputId": "ead9cb9d-3b16-4c57-e9ed-a6a30aac3e54"
      },
      "execution_count": 32,
      "outputs": [
        {
          "output_type": "stream",
          "name": "stdout",
          "text": [
            "[1] \"✅ Processed data saved as 'opioid_yearly_avg.csv'\"\n"
          ]
        }
      ]
    },
    {
      "cell_type": "code",
      "source": [
        "# Install ggplot2 if not installed\n",
        "if (!require(ggplot2)) install.packages(\"ggplot2\", dependencies = TRUE)\n",
        "\n",
        "# Load ggplot2 for visualization\n",
        "library(ggplot2)\n"
      ],
      "metadata": {
        "colab": {
          "base_uri": "https://localhost:8080/"
        },
        "id": "uBrJ3YYtiXpw",
        "outputId": "bc14d186-bfee-4a6d-e8fb-c2f1a35d77bf"
      },
      "execution_count": 33,
      "outputs": [
        {
          "output_type": "stream",
          "name": "stderr",
          "text": [
            "Loading required package: ggplot2\n",
            "\n"
          ]
        }
      ]
    },
    {
      "cell_type": "code",
      "source": [
        "# Load the processed dataset\n",
        "df_yearly_avg <- read_csv(\"/content/opioid_yearly_avg.csv\")\n",
        "\n",
        "# Create scatter plot\n",
        "ggplot(df_yearly_avg, aes(x = year, y = avg_pills_per_capita)) +\n",
        "  geom_point(color = \"blue\", size = 2) +  # Scatter points\n",
        "  labs(title = \"Average Opioid Pills Per Capita by Year\",\n",
        "       x = \"Year\",\n",
        "       y = \"Average Pills Per Capita\") +\n",
        "  theme_minimal()\n"
      ],
      "metadata": {
        "colab": {
          "base_uri": "https://localhost:8080/",
          "height": 564
        },
        "id": "DMyVCsNricer",
        "outputId": "cb19a0a9-2208-4824-e0fa-e4f95999fc13"
      },
      "execution_count": 34,
      "outputs": [
        {
          "output_type": "stream",
          "name": "stderr",
          "text": [
            "\u001b[1mRows: \u001b[22m\u001b[34m9\u001b[39m \u001b[1mColumns: \u001b[22m\u001b[34m2\u001b[39m\n",
            "\u001b[36m──\u001b[39m \u001b[1mColumn specification\u001b[22m \u001b[36m────────────────────────────────────────────────────────\u001b[39m\n",
            "\u001b[1mDelimiter:\u001b[22m \",\"\n",
            "\u001b[32mdbl\u001b[39m (2): year, avg_pills_per_capita\n",
            "\n",
            "\u001b[36mℹ\u001b[39m Use `spec()` to retrieve the full column specification for this data.\n",
            "\u001b[36mℹ\u001b[39m Specify the column types or set `show_col_types = FALSE` to quiet this message.\n"
          ]
        },
        {
          "output_type": "display_data",
          "data": {
            "text/plain": [
              "plot without title"
            ],
            "image/png": "[encoded data removed]"
          },
          "metadata": {
            "image/png": {
              "width": 420,
              "height": 420
            }
          }
        }
      ]
    }
  ]
}
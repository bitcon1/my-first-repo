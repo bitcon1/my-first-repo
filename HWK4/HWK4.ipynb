{
  "nbformat": 4,
  "nbformat_minor": 0,
  "metadata": {
    "colab": {
      "provenance": [],
      "toc_visible": true,
      "gpuType": "T4"
    },
    "kernelspec": {
      "name": "python3",
      "display_name": "Python 3"
    },
    "language_info": {
      "name": "python"
    },
    "accelerator": "GPU"
  },
  "cells": [
    {
      "cell_type": "code",
      "execution_count": 39,
      "metadata": {
        "id": "TA9WgCRV8ZN1"
      },
      "outputs": [],
      "source": [
        "## By A. Zandi\n",
        "import pandas as pd\n",
        "import numpy as np\n",
        "import h5py\n",
        "import seaborn as sns\n",
        "import matplotlib.pyplot as plt\n",
        "## this sets some style parameters\n",
        "sns.set()"
      ]
    },
    {
      "cell_type": "code",
      "source": [
        "import sqlite3 as sq3"
      ],
      "metadata": {
        "id": "dkRdCXbElaj1"
      },
      "execution_count": 40,
      "outputs": []
    },
    {
      "cell_type": "code",
      "source": [
        "# Download the CSV files\n",
        "!wget https://raw.githubusercontent.com/opencasestudies/ocs-bp-opioid-rural-urban/master/data/simpler_import/county_pop_arcos.csv\n",
        "!wget https://raw.githubusercontent.com/opencasestudies/ocs-bp-opioid-rural-urban/master/data/simpler_import/land_area.csv\n",
        "!wget https://raw.githubusercontent.com/opencasestudies/ocs-bp-opioid-rural-urban/master/data/simpler_import/county_annual.csv"
      ],
      "metadata": {
        "colab": {
          "base_uri": "https://localhost:8080/"
        },
        "id": "jgkkPV0T3mRH",
        "outputId": "e69eaf4e-0a74-4958-8191-e9490cc6a2ef"
      },
      "execution_count": 41,
      "outputs": [
        {
          "output_type": "stream",
          "name": "stdout",
          "text": [
            "--2025-02-18 05:58:10--  https://raw.githubusercontent.com/opencasestudies/ocs-bp-opioid-rural-urban/master/data/simpler_import/county_pop_arcos.csv\n",
            "Resolving raw.githubusercontent.com (raw.githubusercontent.com)... 185.199.108.133, 185.199.109.133, 185.199.110.133, ...\n",
            "Connecting to raw.githubusercontent.com (raw.githubusercontent.com)|185.199.108.133|:443... connected.\n",
            "HTTP request sent, awaiting response... 200 OK\n",
            "Length: 2771268 (2.6M) [text/plain]\n",
            "Saving to: ‘county_pop_arcos.csv.2’\n",
            "\n",
            "\rcounty_pop_arcos.cs   0%[                    ]       0  --.-KB/s               \rcounty_pop_arcos.cs 100%[===================>]   2.64M  --.-KB/s    in 0.05s   \n",
            "\n",
            "2025-02-18 05:58:10 (57.6 MB/s) - ‘county_pop_arcos.csv.2’ saved [2771268/2771268]\n",
            "\n",
            "--2025-02-18 05:58:10--  https://raw.githubusercontent.com/opencasestudies/ocs-bp-opioid-rural-urban/master/data/simpler_import/land_area.csv\n",
            "Resolving raw.githubusercontent.com (raw.githubusercontent.com)... 185.199.108.133, 185.199.109.133, 185.199.110.133, ...\n",
            "Connecting to raw.githubusercontent.com (raw.githubusercontent.com)|185.199.108.133|:443... connected.\n",
            "HTTP request sent, awaiting response... 200 OK\n",
            "Length: 672411 (657K) [text/plain]\n",
            "Saving to: ‘land_area.csv.2’\n",
            "\n",
            "land_area.csv.2     100%[===================>] 656.65K  --.-KB/s    in 0.03s   \n",
            "\n",
            "2025-02-18 05:58:10 (19.7 MB/s) - ‘land_area.csv.2’ saved [672411/672411]\n",
            "\n",
            "--2025-02-18 05:58:10--  https://raw.githubusercontent.com/opencasestudies/ocs-bp-opioid-rural-urban/master/data/simpler_import/county_annual.csv\n",
            "Resolving raw.githubusercontent.com (raw.githubusercontent.com)... 185.199.108.133, 185.199.109.133, 185.199.110.133, ...\n",
            "Connecting to raw.githubusercontent.com (raw.githubusercontent.com)|185.199.108.133|:443... connected.\n",
            "HTTP request sent, awaiting response... 200 OK\n",
            "Length: 1331693 (1.3M) [text/plain]\n",
            "Saving to: ‘county_annual.csv.2’\n",
            "\n",
            "county_annual.csv.2 100%[===================>]   1.27M  --.-KB/s    in 0.04s   \n",
            "\n",
            "2025-02-18 05:58:10 (28.4 MB/s) - ‘county_annual.csv.2’ saved [1331693/1331693]\n",
            "\n"
          ]
        }
      ]
    },
    {
      "cell_type": "code",
      "source": [
        "# Create SQLite database connection\n",
        "con = sq3.connect(\"opioid.db\")\n",
        "\n",
        "# Read CSV files into Pandas DataFrames\n",
        "df_county_pop = pd.read_csv(\"county_pop_arcos.csv\")\n",
        "df_land_area = pd.read_csv(\"land_area.csv\")\n",
        "df_county_annual = pd.read_csv(\"county_annual.csv\")\n",
        "\n",
        "# Write DataFrames to SQLite tables\n",
        "df_county_pop.to_sql(\"county_pop_arcos\", con, if_exists=\"replace\", index=False)\n",
        "df_land_area.to_sql(\"land_area\", con, if_exists=\"replace\", index=False)\n",
        "df_county_annual.to_sql(\"county_annual\", con, if_exists=\"replace\", index=False)\n",
        "\n",
        "# Close the connection\n",
        "con.close()\n",
        "print(\"SQLite database 'opioid.db' created successfully with tables.\")"
      ],
      "metadata": {
        "colab": {
          "base_uri": "https://localhost:8080/"
        },
        "id": "10jXuvdQ4nnX",
        "outputId": "e4c5f9b6-b488-4102-ff98-3d7e39593edb"
      },
      "execution_count": 42,
      "outputs": [
        {
          "output_type": "stream",
          "name": "stdout",
          "text": [
            "SQLite database 'opioid.db' created successfully with tables.\n"
          ]
        }
      ]
    },
    {
      "cell_type": "code",
      "source": [],
      "metadata": {
        "id": "SYQUGYtkAsZf"
      },
      "execution_count": 42,
      "outputs": []
    },
    {
      "cell_type": "code",
      "source": [
        "# Reconnect to SQLite database\n",
        "con = sq3.connect(\"opioid.db\")\n",
        "\n",
        "# Read data into Pandas DataFrames\n",
        "df_county_pop = pd.read_sql_query(\"SELECT * FROM county_pop_arcos\", con)\n",
        "df_land_area = pd.read_sql_query(\"SELECT * FROM land_area\", con)\n",
        "df_county_annual = pd.read_sql_query(\"SELECT * FROM county_annual\", con)\n",
        "\n",
        "# Close the connection\n",
        "con.close()\n",
        "\n",
        "# Display first few rows of each DataFrame\n",
        "print(\"County Population Data:\\n\", df_county_pop.head())\n",
        "print(\"\\nLand Area Data:\\n\", df_land_area.head())\n",
        "print(\"\\nCounty Annual Data:\\n\", df_county_annual.head())"
      ],
      "metadata": {
        "colab": {
          "base_uri": "https://localhost:8080/"
        },
        "id": "cNCcBvlEABh3",
        "outputId": "0e04d4b0-7392-4538-b23e-c505d53a9405"
      },
      "execution_count": 43,
      "outputs": [
        {
          "output_type": "stream",
          "name": "stdout",
          "text": [
            "County Population Data:\n",
            "    Unnamed: 0 BUYER_COUNTY BUYER_STATE  countyfips  STATE  COUNTY county_name  \\\n",
            "0           1      AUTAUGA          AL        1001      1       1     Autauga   \n",
            "1           2      BALDWIN          AL        1003      1       3     Baldwin   \n",
            "2           3      BARBOUR          AL        1005      1       5     Barbour   \n",
            "3           4         BIBB          AL        1007      1       7        Bibb   \n",
            "4           5       BLOUNT          AL        1009      1       9      Blount   \n",
            "\n",
            "                      NAME    variable  year  population  \n",
            "0  Autauga County, Alabama  B01003_001  2006       51328  \n",
            "1  Baldwin County, Alabama  B01003_001  2006      168121  \n",
            "2  Barbour County, Alabama  B01003_001  2006       27861  \n",
            "3     Bibb County, Alabama  B01003_001  2006       22099  \n",
            "4   Blount County, Alabama  B01003_001  2006       55485  \n",
            "\n",
            "Land Area Data:\n",
            "    Unnamed: 0       Areaname  STCOU  LND010190F  LND010190D  LND010190N1  \\\n",
            "0           1  UNITED STATES      0           0  3787425.08            0   \n",
            "1           2        ALABAMA   1000           0    52422.94            0   \n",
            "2           3    Autauga, AL   1001           0      604.49            0   \n",
            "3           4    Baldwin, AL   1003           0     2027.08            0   \n",
            "4           5    Barbour, AL   1005           0      904.59            0   \n",
            "\n",
            "   LND010190N2  LND010200F  LND010200D  LND010200N1  ...  LND110210N1  \\\n",
            "0            0           0  3794083.06            0  ...            0   \n",
            "1            0           0    52419.02            0  ...            0   \n",
            "2            0           0      604.45            0  ...            0   \n",
            "3            0           0     2026.93            0  ...            0   \n",
            "4            0           0      904.52            0  ...            0   \n",
            "\n",
            "   LND110210N2  LND210190F  LND210190D  LND210190N1  LND210190N2  LND210200F  \\\n",
            "0            0           0   251083.35            0            0           0   \n",
            "1            0           0     1672.71            0            0           0   \n",
            "2            0           0        8.48            0            0           0   \n",
            "3            0           0      430.55            0            0           0   \n",
            "4            0           0       19.59            0            0           0   \n",
            "\n",
            "   LND210200D  LND210200N1  LND210200N2  \n",
            "0   256644.62            0            0  \n",
            "1     1675.01            0            0  \n",
            "2        8.48            0            0  \n",
            "3      430.58            0            0  \n",
            "4       19.61            0            0  \n",
            "\n",
            "[5 rows x 35 columns]\n",
            "\n",
            "County Annual Data:\n",
            "    Unnamed: 0 BUYER_COUNTY BUYER_STATE  year  count  DOSAGE_UNIT  countyfips\n",
            "0           1    ABBEVILLE          SC  2006    877     363620.0     45001.0\n",
            "1           2    ABBEVILLE          SC  2007    908     402940.0     45001.0\n",
            "2           3    ABBEVILLE          SC  2008    871     424590.0     45001.0\n",
            "3           4    ABBEVILLE          SC  2009    930     467230.0     45001.0\n",
            "4           5    ABBEVILLE          SC  2010   1197     539280.0     45001.0\n"
          ]
        }
      ]
    },
    {
      "cell_type": "code",
      "source": [
        "## reading database into Pantas.\n",
        "###con = sq3.connect(\"opioid.db\")\n",
        "\n",
        "###county_info = pd.read_sql_query(\"SELECT * from county_info\", con)\n",
        "\n",
        "#close the connection\n",
        "###con.close\n",
        "###\n",
        "###county_info.head()\n"
      ],
      "metadata": {
        "id": "L6P_YH0fFuUc"
      },
      "execution_count": 44,
      "outputs": []
    },
    {
      "cell_type": "code",
      "source": [
        "# Create lookup dictionary for population by (year, countyfips)\n",
        "county_pop_dict = df_county_pop.set_index([\"year\", \"countyfips\"])[\"population\"].to_dict()\n",
        "\n",
        "# Create lookup dictionary for opioid prescription dosage by (year, countyfips)\n",
        "opioid_dosage_dict = df_county_annual.set_index([\"year\", \"countyfips\"])[\"DOSAGE_UNIT\"].to_dict()\n"
      ],
      "metadata": {
        "id": "DCdQpT3RO0hN"
      },
      "execution_count": 45,
      "outputs": []
    },
    {
      "cell_type": "code",
      "source": [
        "# compute per capita pills\n",
        "opioid_pills_per_capita = []  # Store calculated values\n",
        "\n",
        "for index, row in df_county_annual.iterrows():\n",
        "    key = (row[\"year\"], row[\"countyfips\"])  # Key for lookup\n",
        "    population = county_pop_dict.get(key, None)  # Get population if available\n",
        "\n",
        "    if population and population > 0:  # Avoid division by zero\n",
        "        per_capita = row[\"DOSAGE_UNIT\"] / population\n",
        "    else:\n",
        "        per_capita = None  # Assign None if population is missing\n",
        "\n",
        "    opioid_pills_per_capita.append(per_capita)\n",
        "\n",
        "df_county_annual[\"opioid_pills_per_capita\"] = opioid_pills_per_capita\n"
      ],
      "metadata": {
        "id": "xxt3aj5fPT4L"
      },
      "execution_count": 46,
      "outputs": []
    },
    {
      "cell_type": "code",
      "source": [
        "# Compute annual average\n",
        "df_yearly_avg = df_county_annual.groupby(\"year\")[\"opioid_pills_per_capita\"].mean().reset_index()\n",
        "df_yearly_avg.rename(columns={\"opioid_pills_per_capita\": \"avg_pills_per_capita\"}, inplace=True)\n",
        "\n",
        "print(\"Computed Yearly Averages:\\n\", df_yearly_avg.head())\n"
      ],
      "metadata": {
        "colab": {
          "base_uri": "https://localhost:8080/"
        },
        "id": "cRdKGZ8iPjJS",
        "outputId": "dec5f305-0cb6-4f98-a83d-c7b60d1ade9b"
      },
      "execution_count": 47,
      "outputs": [
        {
          "output_type": "stream",
          "name": "stdout",
          "text": [
            "Computed Yearly Averages:\n",
            "    year  avg_pills_per_capita\n",
            "0  2006             28.783799\n",
            "1  2007             32.474087\n",
            "2  2008             35.503895\n",
            "3  2009             39.094975\n",
            "4  2010             41.532509\n"
          ]
        }
      ]
    },
    {
      "cell_type": "code",
      "source": [
        "# Scatter Plot\n",
        "import matplotlib.pyplot as plt\n",
        "\n",
        "# Scatter plot of average opioid pills per capita per year\n",
        "plt.figure(figsize=(8,6))\n",
        "plt.scatter(df_yearly_avg[\"year\"], df_yearly_avg[\"avg_pills_per_capita\"], color='blue')\n",
        "plt.xlabel(\"Year\")\n",
        "plt.ylabel(\"Average Opioid Pills Per Capita\")\n",
        "plt.title(\"Average Number of Opioid Pills Per Capita by Year\")\n",
        "plt.grid(True)\n",
        "plt.show()\n"
      ],
      "metadata": {
        "colab": {
          "base_uri": "https://localhost:8080/",
          "height": 573
        },
        "id": "XUs801LlP0qu",
        "outputId": "07fd1638-15ca-4282-f110-304661bdb572"
      },
      "execution_count": 48,
      "outputs": [
        {
          "output_type": "display_data",
          "data": {
            "text/plain": [
              "<Figure size 800x600 with 1 Axes>"
            ],
            "image/png": "[encoded data removed]"
          },
          "metadata": {}
        }
      ]
    },
    {
      "cell_type": "code",
      "source": [
        "import pandas as pd\n",
        "\n",
        "# GitHub raw URL\n",
        "github_url = \"https://raw.githubusercontent.com/bitcon1/my-first-repo/master/HWK4/opioid_yearly_avg.csv\"\n",
        "\n",
        "# Load the dataset from GitHub\n",
        "df_yearly_avg = pd.read_csv(github_url)\n",
        "\n",
        "# Display the first few rows\n",
        "print(df_yearly_avg.head())\n"
      ],
      "metadata": {
        "colab": {
          "base_uri": "https://localhost:8080/"
        },
        "id": "B5n7ItwihyMk",
        "outputId": "63cb09ba-2252-4a67-8fda-ad3d7799f70a"
      },
      "execution_count": 3,
      "outputs": [
        {
          "output_type": "stream",
          "name": "stdout",
          "text": [
            "   year  avg_pills_per_capita\n",
            "0  2006             28.783799\n",
            "1  2007             32.474087\n",
            "2  2008             35.503895\n",
            "3  2009             39.094975\n",
            "4  2010             41.532509\n"
          ]
        }
      ]
    }
  ]
}
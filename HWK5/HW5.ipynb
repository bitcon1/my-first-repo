{
  "nbformat": 4,
  "nbformat_minor": 0,
  "metadata": {
    "colab": {
      "provenance": []
    },
    "kernelspec": {
      "name": "python3",
      "display_name": "Python 3"
    },
    "language_info": {
      "name": "python"
    }
  },
  "cells": [
    {
      "cell_type": "code",
      "execution_count": 1,
      "metadata": {
        "id": "OdxD8wrL5W_W"
      },
      "outputs": [],
      "source": [
        "import pandas as pd\n",
        "import plotly.express as px\n",
        "import requests\n",
        "import io\n",
        "import os"
      ]
    },
    {
      "cell_type": "markdown",
      "source": [
        " Step 1: GDP Data from the World Bank API"
      ],
      "metadata": {
        "id": "zTSlMERs5kcs"
      }
    },
    {
      "cell_type": "code",
      "source": [
        "csv_url = \"https://raw.githubusercontent.com/bitcon1/my-first-repo/master/HWK5/imf-dm-export-20250224.csv\"\n",
        "\n",
        "response = requests.get(csv_url)\n",
        "if response.status_code != 200:\n",
        "    raise Exception(\"Error: Unable to fetch GDP data from the source.\")"
      ],
      "metadata": {
        "id": "dtNKZg1S9Phz"
      },
      "execution_count": 2,
      "outputs": []
    },
    {
      "cell_type": "markdown",
      "source": [
        "read into panda"
      ],
      "metadata": {
        "id": "4m0YIAZJ-eap"
      }
    },
    {
      "cell_type": "code",
      "source": [
        "gdp_data = pd.read_csv(io.StringIO(response.text))\n",
        "print(\"✅ Column Names in Dataset:\")\n",
        "print(gdp_data.columns)"
      ],
      "metadata": {
        "colab": {
          "base_uri": "https://localhost:8080/"
        },
        "id": "fzpsaVJNkjEI",
        "outputId": "d7e43497-f18d-4ca9-cd16-753a30504042"
      },
      "execution_count": 3,
      "outputs": [
        {
          "output_type": "stream",
          "name": "stdout",
          "text": [
            "✅ Column Names in Dataset:\n",
            "Index(['Country-Region', 'MF Numeric Code', 'IMF Alphabetic Code', '1980',\n",
            "       '1981', '1982', '1983', '1984', '1985', '1986', '1987', '1988', '1989',\n",
            "       '1990', '1991', '1992', '1993', '1994', '1995', '1996', '1997', '1998',\n",
            "       '1999', '2000', '2001', '2002', '2003', '2004', '2005', '2006', '2007',\n",
            "       '2008', '2009', '2010', '2011', '2012', '2013', '2014', '2015', '2016',\n",
            "       '2017', '2018', '2019', '2020', '2021', '2022', '2023', '2024', '2025',\n",
            "       '2026', '2027', '2028', '2029'],\n",
            "      dtype='object')\n"
          ]
        }
      ]
    },
    {
      "cell_type": "markdown",
      "source": [
        "we can select only the data that we need"
      ],
      "metadata": {
        "id": "sLzVBTtC-zsi"
      }
    },
    {
      "cell_type": "code",
      "source": [
        "year_columns = [col for col in gdp_data.columns if col.isnumeric()]\n",
        "latest_year = max(year_columns)  # Get the latest available GDP year"
      ],
      "metadata": {
        "id": "uWQYhKw--21h"
      },
      "execution_count": 4,
      "outputs": []
    },
    {
      "cell_type": "code",
      "source": [
        "gdp_data = gdp_data[[\"Country-Region\", \"MF Numeric Code\", latest_year]].dropna()\n",
        "gdp_data.columns = [\"Country\", \"IMF Numeric Code\", f\"GDP ({latest_year})\"]"
      ],
      "metadata": {
        "id": "2s8bQ7JKADKp"
      },
      "execution_count": 5,
      "outputs": []
    },
    {
      "cell_type": "code",
      "source": [
        "gdp_data[f\"GDP ({latest_year})\"] = pd.to_numeric(gdp_data[f\"GDP ({latest_year})\"], errors=\"coerce\")"
      ],
      "metadata": {
        "id": "qF4mEfsbIU7I"
      },
      "execution_count": 6,
      "outputs": []
    },
    {
      "cell_type": "code",
      "source": [],
      "metadata": {
        "id": "VVl74YrLIY_U"
      },
      "execution_count": 6,
      "outputs": []
    },
    {
      "cell_type": "markdown",
      "source": [
        "Define IMF regions for Mapping"
      ],
      "metadata": {
        "id": "9lV1pNCfIfsE"
      }
    },
    {
      "cell_type": "code",
      "source": [
        "imf_regions = {\n",
        "    900: \"Africa\",\n",
        "    901: \"Asia and Pacific\",\n",
        "    902: \"Australia and New Zealand\",\n",
        "    903: \"Caribbean\",\n",
        "    904: \"Central America\",\n",
        "    905: \"Central Asia and the Caucasus\",\n",
        "    906: \"East Asia\",\n",
        "    907: \"Eastern Europe\",\n",
        "    908: \"Europe\",\n",
        "    909: \"Middle East\",\n",
        "    910: \"North Africa\",\n",
        "    911: \"North America\",\n",
        "    912: \"Pacific Islands\",\n",
        "    913: \"South America\",\n",
        "    914: \"South Asia\",\n",
        "    915: \"Southeast Asia\",\n",
        "    916: \"Sub-Saharan Africa\",\n",
        "    917: \"Western Europe\",\n",
        "    918: \"Western Hemisphere\",\n",
        "    919: \"ASEAN-5\",\n",
        "    920: \"Advanced Economies\",\n",
        "    921: \"Emerging and Developing Asia\",\n",
        "    922: \"Emerging and Developing Europe\",\n",
        "    923: \"Emerging Markets\",\n",
        "    924: \"Euro Area\",\n",
        "    925: \"European Union\",\n",
        "    926: \"Latin America and the Caribbean\",\n",
        "    927: \"G7 Countries\",\n",
        "    928: \"Middle East & Central Asia\",\n",
        "    929: \"Other Advanced Economies\",\n",
        "    930: \"Sub-Saharan Africa\",\n",
        "    999: \"World\",\n",
        "}"
      ],
      "metadata": {
        "id": "TKe06tx-Iik_"
      },
      "execution_count": 7,
      "outputs": []
    },
    {
      "cell_type": "markdown",
      "source": [
        "Mapping IMF to the Region"
      ],
      "metadata": {
        "id": "xWz2mR8FI8wy"
      }
    },
    {
      "cell_type": "code",
      "source": [
        "gdp_data[\"Region\"] = gdp_data[\"IMF Numeric Code\"].map(imf_regions)"
      ],
      "metadata": {
        "id": "OiHRggI3I3Vk"
      },
      "execution_count": 8,
      "outputs": []
    },
    {
      "cell_type": "code",
      "source": [
        "gdp_data = gdp_data.dropna()\n",
        "dp_data_sorted = gdp_data.sort_values(by=[\"Region\", f\"GDP ({latest_year})\"], ascending=[True, False])"
      ],
      "metadata": {
        "id": "zRgK1IuGJDoO"
      },
      "execution_count": 9,
      "outputs": []
    },
    {
      "cell_type": "code",
      "source": [
        "print(gdp_data.dtypes)  # Check data types\n",
        "print(gdp_data.head())  # Preview the first few rows"
      ],
      "metadata": {
        "colab": {
          "base_uri": "https://localhost:8080/"
        },
        "id": "gEpZRCwIKcED",
        "outputId": "06baeeeb-5e4c-421f-bd78-112929c13900"
      },
      "execution_count": 10,
      "outputs": [
        {
          "output_type": "stream",
          "name": "stdout",
          "text": [
            "Country              object\n",
            "IMF Numeric Code    float64\n",
            "GDP (2029)          float64\n",
            "Region               object\n",
            "dtype: object\n",
            "       Country  IMF Numeric Code  GDP (2029)              Region\n",
            "2      Albania             914.0      36.137          South Asia\n",
            "8      Armenia             911.0      33.203       North America\n",
            "12  Azerbaijan             912.0      93.196     Pacific Islands\n",
            "17     Belarus             913.0      91.426       South America\n",
            "27    Bulgaria             918.0     140.758  Western Hemisphere\n"
          ]
        }
      ]
    },
    {
      "cell_type": "markdown",
      "source": [
        "Create Interactive Map"
      ],
      "metadata": {
        "id": "RZ87-X5QJNz2"
      }
    },
    {
      "cell_type": "code",
      "source": [
        "import plotly.express as px\n",
        "import plotly.io as pio\n",
        "\n",
        "pio.renderers.default = \"colab\""
      ],
      "metadata": {
        "id": "QTTOGX5cNvLW"
      },
      "execution_count": 11,
      "outputs": []
    },
    {
      "cell_type": "code",
      "source": [
        "fig_bar = px.bar(\n",
        "    gdp_data,\n",
        "    x=\"Country\",\n",
        "    y=f\"GDP ({latest_year})\",\n",
        "    color=\"Country\",  # Different colors for each country\n",
        "    title=f\"Global GDP Distribution - {latest_year}\",\n",
        "    labels={f\"GDP ({latest_year})\": \"GDP (in Million USD)\"},\n",
        "    text_auto=True\n",
        ")\n",
        "\n",
        "# Display the plot\n",
        "fig_bar.show()"
      ],
      "metadata": {
        "colab": {
          "base_uri": "https://localhost:8080/",
          "height": 542
        },
        "id": "qlZX8e_2NxIO",
        "outputId": "35a9d40d-95ea-405b-cc69-71735cce645d"
      },
      "execution_count": 12,
      "outputs": [
        {
          "output_type": "display_data",
          "data": {
            "text/html": [
              "<html>\n",
              "<head><meta charset=\"utf-8\" /></head>\n",
              "<body>\n",
              "    <div>            <script src=\"https://cdnjs.cloudflare.com/ajax/libs/mathjax/2.7.5/MathJax.js?config=TeX-AMS-MML_SVG\"></script><script type=\"text/javascript\">if (window.MathJax && window.MathJax.Hub && window.MathJax.Hub.Config) {window.MathJax.Hub.Config({SVG: {font: \"STIX-Web\"}});}</script>                <script type=\"text/javascript\">window.PlotlyConfig = {MathJaxConfig: 'local'};</script>\n",
              "        <script charset=\"utf-8\" src=\"https://cdn.plot.ly/plotly-2.35.2.min.js\"></script>                <div id=\"92a0d35c-6af4-432c-87a9-deba736f28f3\" class=\"plotly-graph-div\" style=\"height:525px; width:100%;\"></div>            <script type=\"text/javascript\">                                    window.PLOTLYENV=window.PLOTLYENV || {};                                    if (document.getElementById(\"92a0d35c-6af4-432c-87a9-deba736f28f3\")) {                    Plotly.newPlot(                        \"92a0d35c-6af4-432c-87a9-deba736f28f3\",                        [{\"alignmentgroup\":\"True\",\"hovertemplate\":\"Country=%{x}\\u003cbr\\u003eGDP (in Million USD)=%{y}\\u003cextra\\u003e\\u003c\\u002fextra\\u003e\",\"legendgroup\":\"Albania\",\"marker\":{\"color\":\"#636efa\",\"pattern\":{\"shape\":\"\"}},\"name\":\"Albania\",\"offsetgroup\":\"Albania\",\"orientation\":\"v\",\"showlegend\":true,\"textposition\":\"auto\",\"texttemplate\":\"%{y}\",\"x\":[\"Albania\"],\"xaxis\":\"x\",\"y\":[36.137],\"yaxis\":\"y\",\"type\":\"bar\"},{\"alignmentgroup\":\"True\",\"hovertemplate\":\"Country=%{x}\\u003cbr\\u003eGDP (in Million USD)=%{y}\\u003cextra\\u003e\\u003c\\u002fextra\\u003e\",\"legendgroup\":\"Armenia\",\"marker\":{\"color\":\"#EF553B\",\"pattern\":{\"shape\":\"\"}},\"name\":\"Armenia\",\"offsetgroup\":\"Armenia\",\"orientation\":\"v\",\"showlegend\":true,\"textposition\":\"auto\",\"texttemplate\":\"%{y}\",\"x\":[\"Armenia\"],\"xaxis\":\"x\",\"y\":[33.203],\"yaxis\":\"y\",\"type\":\"bar\"},{\"alignmentgroup\":\"True\",\"hovertemplate\":\"Country=%{x}\\u003cbr\\u003eGDP (in Million USD)=%{y}\\u003cextra\\u003e\\u003c\\u002fextra\\u003e\",\"legendgroup\":\"Azerbaijan\",\"marker\":{\"color\":\"#00cc96\",\"pattern\":{\"shape\":\"\"}},\"name\":\"Azerbaijan\",\"offsetgroup\":\"Azerbaijan\",\"orientation\":\"v\",\"showlegend\":true,\"textposition\":\"auto\",\"texttemplate\":\"%{y}\",\"x\":[\"Azerbaijan\"],\"xaxis\":\"x\",\"y\":[93.196],\"yaxis\":\"y\",\"type\":\"bar\"},{\"alignmentgroup\":\"True\",\"hovertemplate\":\"Country=%{x}\\u003cbr\\u003eGDP (in Million USD)=%{y}\\u003cextra\\u003e\\u003c\\u002fextra\\u003e\",\"legendgroup\":\"Belarus\",\"marker\":{\"color\":\"#ab63fa\",\"pattern\":{\"shape\":\"\"}},\"name\":\"Belarus\",\"offsetgroup\":\"Belarus\",\"orientation\":\"v\",\"showlegend\":true,\"textposition\":\"auto\",\"texttemplate\":\"%{y}\",\"x\":[\"Belarus\"],\"xaxis\":\"x\",\"y\":[91.426],\"yaxis\":\"y\",\"type\":\"bar\"},{\"alignmentgroup\":\"True\",\"hovertemplate\":\"Country=%{x}\\u003cbr\\u003eGDP (in Million USD)=%{y}\\u003cextra\\u003e\\u003c\\u002fextra\\u003e\",\"legendgroup\":\"Bulgaria\",\"marker\":{\"color\":\"#FFA15A\",\"pattern\":{\"shape\":\"\"}},\"name\":\"Bulgaria\",\"offsetgroup\":\"Bulgaria\",\"orientation\":\"v\",\"showlegend\":true,\"textposition\":\"auto\",\"texttemplate\":\"%{y}\",\"x\":[\"Bulgaria\"],\"xaxis\":\"x\",\"y\":[140.758],\"yaxis\":\"y\",\"type\":\"bar\"},{\"alignmentgroup\":\"True\",\"hovertemplate\":\"Country=%{x}\\u003cbr\\u003eGDP (in Million USD)=%{y}\\u003cextra\\u003e\\u003c\\u002fextra\\u003e\",\"legendgroup\":\"China, People's Republic of\",\"marker\":{\"color\":\"#19d3f3\",\"pattern\":{\"shape\":\"\"}},\"name\":\"China, People's Republic of\",\"offsetgroup\":\"China, People's Republic of\",\"orientation\":\"v\",\"showlegend\":true,\"textposition\":\"auto\",\"texttemplate\":\"%{y}\",\"x\":[\"China, People's Republic of\"],\"xaxis\":\"x\",\"y\":[24589.667],\"yaxis\":\"y\",\"type\":\"bar\"},{\"alignmentgroup\":\"True\",\"hovertemplate\":\"Country=%{x}\\u003cbr\\u003eGDP (in Million USD)=%{y}\\u003cextra\\u003e\\u003c\\u002fextra\\u003e\",\"legendgroup\":\"Georgia\",\"marker\":{\"color\":\"#FF6692\",\"pattern\":{\"shape\":\"\"}},\"name\":\"Georgia\",\"offsetgroup\":\"Georgia\",\"orientation\":\"v\",\"showlegend\":true,\"textposition\":\"auto\",\"texttemplate\":\"%{y}\",\"x\":[\"Georgia\"],\"xaxis\":\"x\",\"y\":[47.409],\"yaxis\":\"y\",\"type\":\"bar\"},{\"alignmentgroup\":\"True\",\"hovertemplate\":\"Country=%{x}\\u003cbr\\u003eGDP (in Million USD)=%{y}\\u003cextra\\u003e\\u003c\\u002fextra\\u003e\",\"legendgroup\":\"Kazakhstan\",\"marker\":{\"color\":\"#B6E880\",\"pattern\":{\"shape\":\"\"}},\"name\":\"Kazakhstan\",\"offsetgroup\":\"Kazakhstan\",\"orientation\":\"v\",\"showlegend\":true,\"textposition\":\"auto\",\"texttemplate\":\"%{y}\",\"x\":[\"Kazakhstan\"],\"xaxis\":\"x\",\"y\":[387.086],\"yaxis\":\"y\",\"type\":\"bar\"},{\"alignmentgroup\":\"True\",\"hovertemplate\":\"Country=%{x}\\u003cbr\\u003eGDP (in Million USD)=%{y}\\u003cextra\\u003e\\u003c\\u002fextra\\u003e\",\"legendgroup\":\"Kyrgyz Republic\",\"marker\":{\"color\":\"#FF97FF\",\"pattern\":{\"shape\":\"\"}},\"name\":\"Kyrgyz Republic\",\"offsetgroup\":\"Kyrgyz Republic\",\"orientation\":\"v\",\"showlegend\":true,\"textposition\":\"auto\",\"texttemplate\":\"%{y}\",\"x\":[\"Kyrgyz Republic\"],\"xaxis\":\"x\",\"y\":[22.235],\"yaxis\":\"y\",\"type\":\"bar\"},{\"alignmentgroup\":\"True\",\"hovertemplate\":\"Country=%{x}\\u003cbr\\u003eGDP (in Million USD)=%{y}\\u003cextra\\u003e\\u003c\\u002fextra\\u003e\",\"legendgroup\":\"Moldova\",\"marker\":{\"color\":\"#FECB52\",\"pattern\":{\"shape\":\"\"}},\"name\":\"Moldova\",\"offsetgroup\":\"Moldova\",\"orientation\":\"v\",\"showlegend\":true,\"textposition\":\"auto\",\"texttemplate\":\"%{y}\",\"x\":[\"Moldova\"],\"xaxis\":\"x\",\"y\":[28.911],\"yaxis\":\"y\",\"type\":\"bar\"},{\"alignmentgroup\":\"True\",\"hovertemplate\":\"Country=%{x}\\u003cbr\\u003eGDP (in Million USD)=%{y}\\u003cextra\\u003e\\u003c\\u002fextra\\u003e\",\"legendgroup\":\"Russian Federation\",\"marker\":{\"color\":\"#636efa\",\"pattern\":{\"shape\":\"\"}},\"name\":\"Russian Federation\",\"offsetgroup\":\"Russian Federation\",\"orientation\":\"v\",\"showlegend\":true,\"textposition\":\"auto\",\"texttemplate\":\"%{y}\",\"x\":[\"Russian Federation\"],\"xaxis\":\"x\",\"y\":[2413.167],\"yaxis\":\"y\",\"type\":\"bar\"},{\"alignmentgroup\":\"True\",\"hovertemplate\":\"Country=%{x}\\u003cbr\\u003eGDP (in Million USD)=%{y}\\u003cextra\\u003e\\u003c\\u002fextra\\u003e\",\"legendgroup\":\"Tajikistan\",\"marker\":{\"color\":\"#EF553B\",\"pattern\":{\"shape\":\"\"}},\"name\":\"Tajikistan\",\"offsetgroup\":\"Tajikistan\",\"orientation\":\"v\",\"showlegend\":true,\"textposition\":\"auto\",\"texttemplate\":\"%{y}\",\"x\":[\"Tajikistan\"],\"xaxis\":\"x\",\"y\":[19.808],\"yaxis\":\"y\",\"type\":\"bar\"},{\"alignmentgroup\":\"True\",\"hovertemplate\":\"Country=%{x}\\u003cbr\\u003eGDP (in Million USD)=%{y}\\u003cextra\\u003e\\u003c\\u002fextra\\u003e\",\"legendgroup\":\"Turkmenistan\",\"marker\":{\"color\":\"#00cc96\",\"pattern\":{\"shape\":\"\"}},\"name\":\"Turkmenistan\",\"offsetgroup\":\"Turkmenistan\",\"orientation\":\"v\",\"showlegend\":true,\"textposition\":\"auto\",\"texttemplate\":\"%{y}\",\"x\":[\"Turkmenistan\"],\"xaxis\":\"x\",\"y\":[129.706],\"yaxis\":\"y\",\"type\":\"bar\"},{\"alignmentgroup\":\"True\",\"hovertemplate\":\"Country=%{x}\\u003cbr\\u003eGDP (in Million USD)=%{y}\\u003cextra\\u003e\\u003c\\u002fextra\\u003e\",\"legendgroup\":\"Ukraine\",\"marker\":{\"color\":\"#ab63fa\",\"pattern\":{\"shape\":\"\"}},\"name\":\"Ukraine\",\"offsetgroup\":\"Ukraine\",\"orientation\":\"v\",\"showlegend\":true,\"textposition\":\"auto\",\"texttemplate\":\"%{y}\",\"x\":[\"Ukraine\"],\"xaxis\":\"x\",\"y\":[249.394],\"yaxis\":\"y\",\"type\":\"bar\"},{\"alignmentgroup\":\"True\",\"hovertemplate\":\"Country=%{x}\\u003cbr\\u003eGDP (in Million USD)=%{y}\\u003cextra\\u003e\\u003c\\u002fextra\\u003e\",\"legendgroup\":\"Uzbekistan\",\"marker\":{\"color\":\"#FFA15A\",\"pattern\":{\"shape\":\"\"}},\"name\":\"Uzbekistan\",\"offsetgroup\":\"Uzbekistan\",\"orientation\":\"v\",\"showlegend\":true,\"textposition\":\"auto\",\"texttemplate\":\"%{y}\",\"x\":[\"Uzbekistan\"],\"xaxis\":\"x\",\"y\":[189.881],\"yaxis\":\"y\",\"type\":\"bar\"},{\"alignmentgroup\":\"True\",\"hovertemplate\":\"Country=%{x}\\u003cbr\\u003eGDP (in Million USD)=%{y}\\u003cextra\\u003e\\u003c\\u002fextra\\u003e\",\"legendgroup\":\"Africa (Region)\",\"marker\":{\"color\":\"#19d3f3\",\"pattern\":{\"shape\":\"\"}},\"name\":\"Africa (Region)\",\"offsetgroup\":\"Africa (Region)\",\"orientation\":\"v\",\"showlegend\":true,\"textposition\":\"auto\",\"texttemplate\":\"%{y}\",\"x\":[\"Africa (Region)\"],\"xaxis\":\"x\",\"y\":[3696.032],\"yaxis\":\"y\",\"type\":\"bar\"},{\"alignmentgroup\":\"True\",\"hovertemplate\":\"Country=%{x}\\u003cbr\\u003eGDP (in Million USD)=%{y}\\u003cextra\\u003e\\u003c\\u002fextra\\u003e\",\"legendgroup\":\"Asia and Pacific\",\"marker\":{\"color\":\"#FF6692\",\"pattern\":{\"shape\":\"\"}},\"name\":\"Asia and Pacific\",\"offsetgroup\":\"Asia and Pacific\",\"orientation\":\"v\",\"showlegend\":true,\"textposition\":\"auto\",\"texttemplate\":\"%{y}\",\"x\":[\"Asia and Pacific\"],\"xaxis\":\"x\",\"y\":[51978.525],\"yaxis\":\"y\",\"type\":\"bar\"},{\"alignmentgroup\":\"True\",\"hovertemplate\":\"Country=%{x}\\u003cbr\\u003eGDP (in Million USD)=%{y}\\u003cextra\\u003e\\u003c\\u002fextra\\u003e\",\"legendgroup\":\"Australia and New Zealand\",\"marker\":{\"color\":\"#B6E880\",\"pattern\":{\"shape\":\"\"}},\"name\":\"Australia and New Zealand\",\"offsetgroup\":\"Australia and New Zealand\",\"orientation\":\"v\",\"showlegend\":true,\"textposition\":\"auto\",\"texttemplate\":\"%{y}\",\"x\":[\"Australia and New Zealand\"],\"xaxis\":\"x\",\"y\":[2531.323],\"yaxis\":\"y\",\"type\":\"bar\"},{\"alignmentgroup\":\"True\",\"hovertemplate\":\"Country=%{x}\\u003cbr\\u003eGDP (in Million USD)=%{y}\\u003cextra\\u003e\\u003c\\u002fextra\\u003e\",\"legendgroup\":\"Caribbean\",\"marker\":{\"color\":\"#FF97FF\",\"pattern\":{\"shape\":\"\"}},\"name\":\"Caribbean\",\"offsetgroup\":\"Caribbean\",\"orientation\":\"v\",\"showlegend\":true,\"textposition\":\"auto\",\"texttemplate\":\"%{y}\",\"x\":[\"Caribbean\"],\"xaxis\":\"x\",\"y\":[180.34],\"yaxis\":\"y\",\"type\":\"bar\"},{\"alignmentgroup\":\"True\",\"hovertemplate\":\"Country=%{x}\\u003cbr\\u003eGDP (in Million USD)=%{y}\\u003cextra\\u003e\\u003c\\u002fextra\\u003e\",\"legendgroup\":\"Central America\",\"marker\":{\"color\":\"#FECB52\",\"pattern\":{\"shape\":\"\"}},\"name\":\"Central America\",\"offsetgroup\":\"Central America\",\"orientation\":\"v\",\"showlegend\":true,\"textposition\":\"auto\",\"texttemplate\":\"%{y}\",\"x\":[\"Central America\"],\"xaxis\":\"x\",\"y\":[708.736],\"yaxis\":\"y\",\"type\":\"bar\"},{\"alignmentgroup\":\"True\",\"hovertemplate\":\"Country=%{x}\\u003cbr\\u003eGDP (in Million USD)=%{y}\\u003cextra\\u003e\\u003c\\u002fextra\\u003e\",\"legendgroup\":\"Central Asia and the Caucasus\",\"marker\":{\"color\":\"#636efa\",\"pattern\":{\"shape\":\"\"}},\"name\":\"Central Asia and the Caucasus\",\"offsetgroup\":\"Central Asia and the Caucasus\",\"orientation\":\"v\",\"showlegend\":true,\"textposition\":\"auto\",\"texttemplate\":\"%{y}\",\"x\":[\"Central Asia and the Caucasus\"],\"xaxis\":\"x\",\"y\":[2686.759],\"yaxis\":\"y\",\"type\":\"bar\"},{\"alignmentgroup\":\"True\",\"hovertemplate\":\"Country=%{x}\\u003cbr\\u003eGDP (in Million USD)=%{y}\\u003cextra\\u003e\\u003c\\u002fextra\\u003e\",\"legendgroup\":\"East Asia\",\"marker\":{\"color\":\"#EF553B\",\"pattern\":{\"shape\":\"\"}},\"name\":\"East Asia\",\"offsetgroup\":\"East Asia\",\"orientation\":\"v\",\"showlegend\":true,\"textposition\":\"auto\",\"texttemplate\":\"%{y}\",\"x\":[\"East Asia\"],\"xaxis\":\"x\",\"y\":[33446.494],\"yaxis\":\"y\",\"type\":\"bar\"},{\"alignmentgroup\":\"True\",\"hovertemplate\":\"Country=%{x}\\u003cbr\\u003eGDP (in Million USD)=%{y}\\u003cextra\\u003e\\u003c\\u002fextra\\u003e\",\"legendgroup\":\"Eastern Europe \",\"marker\":{\"color\":\"#00cc96\",\"pattern\":{\"shape\":\"\"}},\"name\":\"Eastern Europe \",\"offsetgroup\":\"Eastern Europe \",\"orientation\":\"v\",\"showlegend\":true,\"textposition\":\"auto\",\"texttemplate\":\"%{y}\",\"x\":[\"Eastern Europe \"],\"xaxis\":\"x\",\"y\":[6113.635],\"yaxis\":\"y\",\"type\":\"bar\"},{\"alignmentgroup\":\"True\",\"hovertemplate\":\"Country=%{x}\\u003cbr\\u003eGDP (in Million USD)=%{y}\\u003cextra\\u003e\\u003c\\u002fextra\\u003e\",\"legendgroup\":\"Europe\",\"marker\":{\"color\":\"#ab63fa\",\"pattern\":{\"shape\":\"\"}},\"name\":\"Europe\",\"offsetgroup\":\"Europe\",\"orientation\":\"v\",\"showlegend\":true,\"textposition\":\"auto\",\"texttemplate\":\"%{y}\",\"x\":[\"Europe\"],\"xaxis\":\"x\",\"y\":[32534.51],\"yaxis\":\"y\",\"type\":\"bar\"},{\"alignmentgroup\":\"True\",\"hovertemplate\":\"Country=%{x}\\u003cbr\\u003eGDP (in Million USD)=%{y}\\u003cextra\\u003e\\u003c\\u002fextra\\u003e\",\"legendgroup\":\"Middle East (Region)\",\"marker\":{\"color\":\"#FFA15A\",\"pattern\":{\"shape\":\"\"}},\"name\":\"Middle East (Region)\",\"offsetgroup\":\"Middle East (Region)\",\"orientation\":\"v\",\"showlegend\":true,\"textposition\":\"auto\",\"texttemplate\":\"%{y}\",\"x\":[\"Middle East (Region)\"],\"xaxis\":\"x\",\"y\":[4536.722],\"yaxis\":\"y\",\"type\":\"bar\"},{\"alignmentgroup\":\"True\",\"hovertemplate\":\"Country=%{x}\\u003cbr\\u003eGDP (in Million USD)=%{y}\\u003cextra\\u003e\\u003c\\u002fextra\\u003e\",\"legendgroup\":\"North Africa\",\"marker\":{\"color\":\"#19d3f3\",\"pattern\":{\"shape\":\"\"}},\"name\":\"North Africa\",\"offsetgroup\":\"North Africa\",\"orientation\":\"v\",\"showlegend\":true,\"textposition\":\"auto\",\"texttemplate\":\"%{y}\",\"x\":[\"North Africa\"],\"xaxis\":\"x\",\"y\":[1149.764],\"yaxis\":\"y\",\"type\":\"bar\"},{\"alignmentgroup\":\"True\",\"hovertemplate\":\"Country=%{x}\\u003cbr\\u003eGDP (in Million USD)=%{y}\\u003cextra\\u003e\\u003c\\u002fextra\\u003e\",\"legendgroup\":\"North America\",\"marker\":{\"color\":\"#FF6692\",\"pattern\":{\"shape\":\"\"}},\"name\":\"North America\",\"offsetgroup\":\"North America\",\"orientation\":\"v\",\"showlegend\":true,\"textposition\":\"auto\",\"texttemplate\":\"%{y}\",\"x\":[\"North America\"],\"xaxis\":\"x\",\"y\":[40561.835],\"yaxis\":\"y\",\"type\":\"bar\"},{\"alignmentgroup\":\"True\",\"hovertemplate\":\"Country=%{x}\\u003cbr\\u003eGDP (in Million USD)=%{y}\\u003cextra\\u003e\\u003c\\u002fextra\\u003e\",\"legendgroup\":\"Pacific Islands \",\"marker\":{\"color\":\"#B6E880\",\"pattern\":{\"shape\":\"\"}},\"name\":\"Pacific Islands \",\"offsetgroup\":\"Pacific Islands \",\"orientation\":\"v\",\"showlegend\":true,\"textposition\":\"auto\",\"texttemplate\":\"%{y}\",\"x\":[\"Pacific Islands \"],\"xaxis\":\"x\",\"y\":[50.621],\"yaxis\":\"y\",\"type\":\"bar\"},{\"alignmentgroup\":\"True\",\"hovertemplate\":\"Country=%{x}\\u003cbr\\u003eGDP (in Million USD)=%{y}\\u003cextra\\u003e\\u003c\\u002fextra\\u003e\",\"legendgroup\":\"South America\",\"marker\":{\"color\":\"#FF97FF\",\"pattern\":{\"shape\":\"\"}},\"name\":\"South America\",\"offsetgroup\":\"South America\",\"orientation\":\"v\",\"showlegend\":true,\"textposition\":\"auto\",\"texttemplate\":\"%{y}\",\"x\":[\"South America\"],\"xaxis\":\"x\",\"y\":[5345.072],\"yaxis\":\"y\",\"type\":\"bar\"},{\"alignmentgroup\":\"True\",\"hovertemplate\":\"Country=%{x}\\u003cbr\\u003eGDP (in Million USD)=%{y}\\u003cextra\\u003e\\u003c\\u002fextra\\u003e\",\"legendgroup\":\"South Asia\",\"marker\":{\"color\":\"#FECB52\",\"pattern\":{\"shape\":\"\"}},\"name\":\"South Asia\",\"offsetgroup\":\"South Asia\",\"orientation\":\"v\",\"showlegend\":true,\"textposition\":\"auto\",\"texttemplate\":\"%{y}\",\"x\":[\"South Asia\"],\"xaxis\":\"x\",\"y\":[7717.742],\"yaxis\":\"y\",\"type\":\"bar\"},{\"alignmentgroup\":\"True\",\"hovertemplate\":\"Country=%{x}\\u003cbr\\u003eGDP (in Million USD)=%{y}\\u003cextra\\u003e\\u003c\\u002fextra\\u003e\",\"legendgroup\":\"Southeast Asia\",\"marker\":{\"color\":\"#636efa\",\"pattern\":{\"shape\":\"\"}},\"name\":\"Southeast Asia\",\"offsetgroup\":\"Southeast Asia\",\"orientation\":\"v\",\"showlegend\":true,\"textposition\":\"auto\",\"texttemplate\":\"%{y}\",\"x\":[\"Southeast Asia\"],\"xaxis\":\"x\",\"y\":[5545.586],\"yaxis\":\"y\",\"type\":\"bar\"},{\"alignmentgroup\":\"True\",\"hovertemplate\":\"Country=%{x}\\u003cbr\\u003eGDP (in Million USD)=%{y}\\u003cextra\\u003e\\u003c\\u002fextra\\u003e\",\"legendgroup\":\"Sub-Saharan Africa (Region) \",\"marker\":{\"color\":\"#EF553B\",\"pattern\":{\"shape\":\"\"}},\"name\":\"Sub-Saharan Africa (Region) \",\"offsetgroup\":\"Sub-Saharan Africa (Region) \",\"orientation\":\"v\",\"showlegend\":true,\"textposition\":\"auto\",\"texttemplate\":\"%{y}\",\"x\":[\"Sub-Saharan Africa (Region) \"],\"xaxis\":\"x\",\"y\":[2546.268],\"yaxis\":\"y\",\"type\":\"bar\"},{\"alignmentgroup\":\"True\",\"hovertemplate\":\"Country=%{x}\\u003cbr\\u003eGDP (in Million USD)=%{y}\\u003cextra\\u003e\\u003c\\u002fextra\\u003e\",\"legendgroup\":\"Western Europe\",\"marker\":{\"color\":\"#00cc96\",\"pattern\":{\"shape\":\"\"}},\"name\":\"Western Europe\",\"offsetgroup\":\"Western Europe\",\"orientation\":\"v\",\"showlegend\":true,\"textposition\":\"auto\",\"texttemplate\":\"%{y}\",\"x\":[\"Western Europe\"],\"xaxis\":\"x\",\"y\":[26420.875],\"yaxis\":\"y\",\"type\":\"bar\"},{\"alignmentgroup\":\"True\",\"hovertemplate\":\"Country=%{x}\\u003cbr\\u003eGDP (in Million USD)=%{y}\\u003cextra\\u003e\\u003c\\u002fextra\\u003e\",\"legendgroup\":\"Western Hemisphere (Region)\",\"marker\":{\"color\":\"#ab63fa\",\"pattern\":{\"shape\":\"\"}},\"name\":\"Western Hemisphere (Region)\",\"offsetgroup\":\"Western Hemisphere (Region)\",\"orientation\":\"v\",\"showlegend\":true,\"textposition\":\"auto\",\"texttemplate\":\"%{y}\",\"x\":[\"Western Hemisphere (Region)\"],\"xaxis\":\"x\",\"y\":[46795.984],\"yaxis\":\"y\",\"type\":\"bar\"},{\"alignmentgroup\":\"True\",\"hovertemplate\":\"Country=%{x}\\u003cbr\\u003eGDP (in Million USD)=%{y}\\u003cextra\\u003e\\u003c\\u002fextra\\u003e\",\"legendgroup\":\"ASEAN-5\",\"marker\":{\"color\":\"#FFA15A\",\"pattern\":{\"shape\":\"\"}},\"name\":\"ASEAN-5\",\"offsetgroup\":\"ASEAN-5\",\"orientation\":\"v\",\"showlegend\":true,\"textposition\":\"auto\",\"texttemplate\":\"%{y}\",\"x\":[\"ASEAN-5\"],\"xaxis\":\"x\",\"y\":[4682.628],\"yaxis\":\"y\",\"type\":\"bar\"},{\"alignmentgroup\":\"True\",\"hovertemplate\":\"Country=%{x}\\u003cbr\\u003eGDP (in Million USD)=%{y}\\u003cextra\\u003e\\u003c\\u002fextra\\u003e\",\"legendgroup\":\"Advanced economies\",\"marker\":{\"color\":\"#19d3f3\",\"pattern\":{\"shape\":\"\"}},\"name\":\"Advanced economies\",\"offsetgroup\":\"Advanced economies\",\"orientation\":\"v\",\"showlegend\":true,\"textposition\":\"auto\",\"texttemplate\":\"%{y}\",\"x\":[\"Advanced economies\"],\"xaxis\":\"x\",\"y\":[78608.069],\"yaxis\":\"y\",\"type\":\"bar\"},{\"alignmentgroup\":\"True\",\"hovertemplate\":\"Country=%{x}\\u003cbr\\u003eGDP (in Million USD)=%{y}\\u003cextra\\u003e\\u003c\\u002fextra\\u003e\",\"legendgroup\":\"Emerging and Developing Asia\",\"marker\":{\"color\":\"#FF6692\",\"pattern\":{\"shape\":\"\"}},\"name\":\"Emerging and Developing Asia\",\"offsetgroup\":\"Emerging and Developing Asia\",\"orientation\":\"v\",\"showlegend\":true,\"textposition\":\"auto\",\"texttemplate\":\"%{y}\",\"x\":[\"Emerging and Developing Asia\"],\"xaxis\":\"x\",\"y\":[36766.302],\"yaxis\":\"y\",\"type\":\"bar\"},{\"alignmentgroup\":\"True\",\"hovertemplate\":\"Country=%{x}\\u003cbr\\u003eGDP (in Million USD)=%{y}\\u003cextra\\u003e\\u003c\\u002fextra\\u003e\",\"legendgroup\":\"Emerging and Developing Europe\",\"marker\":{\"color\":\"#B6E880\",\"pattern\":{\"shape\":\"\"}},\"name\":\"Emerging and Developing Europe\",\"offsetgroup\":\"Emerging and Developing Europe\",\"orientation\":\"v\",\"showlegend\":true,\"textposition\":\"auto\",\"texttemplate\":\"%{y}\",\"x\":[\"Emerging and Developing Europe\"],\"xaxis\":\"x\",\"y\":[6855.573],\"yaxis\":\"y\",\"type\":\"bar\"},{\"alignmentgroup\":\"True\",\"hovertemplate\":\"Country=%{x}\\u003cbr\\u003eGDP (in Million USD)=%{y}\\u003cextra\\u003e\\u003c\\u002fextra\\u003e\",\"legendgroup\":\"Emerging market and developing economies\",\"marker\":{\"color\":\"#FF97FF\",\"pattern\":{\"shape\":\"\"}},\"name\":\"Emerging market and developing economies\",\"offsetgroup\":\"Emerging market and developing economies\",\"orientation\":\"v\",\"showlegend\":true,\"textposition\":\"auto\",\"texttemplate\":\"%{y}\",\"x\":[\"Emerging market and developing economies\"],\"xaxis\":\"x\",\"y\":[61043.548],\"yaxis\":\"y\",\"type\":\"bar\"},{\"alignmentgroup\":\"True\",\"hovertemplate\":\"Country=%{x}\\u003cbr\\u003eGDP (in Million USD)=%{y}\\u003cextra\\u003e\\u003c\\u002fextra\\u003e\",\"legendgroup\":\"Euro area\",\"marker\":{\"color\":\"#FECB52\",\"pattern\":{\"shape\":\"\"}},\"name\":\"Euro area\",\"offsetgroup\":\"Euro area\",\"orientation\":\"v\",\"showlegend\":true,\"textposition\":\"auto\",\"texttemplate\":\"%{y}\",\"x\":[\"Euro area\"],\"xaxis\":\"x\",\"y\":[19509.426],\"yaxis\":\"y\",\"type\":\"bar\"},{\"alignmentgroup\":\"True\",\"hovertemplate\":\"Country=%{x}\\u003cbr\\u003eGDP (in Million USD)=%{y}\\u003cextra\\u003e\\u003c\\u002fextra\\u003e\",\"legendgroup\":\"European Union\",\"marker\":{\"color\":\"#636efa\",\"pattern\":{\"shape\":\"\"}},\"name\":\"European Union\",\"offsetgroup\":\"European Union\",\"orientation\":\"v\",\"showlegend\":true,\"textposition\":\"auto\",\"texttemplate\":\"%{y}\",\"x\":[\"European Union\"],\"xaxis\":\"x\",\"y\":[23373.637],\"yaxis\":\"y\",\"type\":\"bar\"},{\"alignmentgroup\":\"True\",\"hovertemplate\":\"Country=%{x}\\u003cbr\\u003eGDP (in Million USD)=%{y}\\u003cextra\\u003e\\u003c\\u002fextra\\u003e\",\"legendgroup\":\"Latin America and the Caribbean\",\"marker\":{\"color\":\"#EF553B\",\"pattern\":{\"shape\":\"\"}},\"name\":\"Latin America and the Caribbean\",\"offsetgroup\":\"Latin America and the Caribbean\",\"orientation\":\"v\",\"showlegend\":true,\"textposition\":\"auto\",\"texttemplate\":\"%{y}\",\"x\":[\"Latin America and the Caribbean\"],\"xaxis\":\"x\",\"y\":[8410.199],\"yaxis\":\"y\",\"type\":\"bar\"},{\"alignmentgroup\":\"True\",\"hovertemplate\":\"Country=%{x}\\u003cbr\\u003eGDP (in Million USD)=%{y}\\u003cextra\\u003e\\u003c\\u002fextra\\u003e\",\"legendgroup\":\"Major advanced economies (G7)\",\"marker\":{\"color\":\"#00cc96\",\"pattern\":{\"shape\":\"\"}},\"name\":\"Major advanced economies (G7)\",\"offsetgroup\":\"Major advanced economies (G7)\",\"orientation\":\"v\",\"showlegend\":true,\"textposition\":\"auto\",\"texttemplate\":\"%{y}\",\"x\":[\"Major advanced economies (G7)\"],\"xaxis\":\"x\",\"y\":[59726.466],\"yaxis\":\"y\",\"type\":\"bar\"},{\"alignmentgroup\":\"True\",\"hovertemplate\":\"Country=%{x}\\u003cbr\\u003eGDP (in Million USD)=%{y}\\u003cextra\\u003e\\u003c\\u002fextra\\u003e\",\"legendgroup\":\"Middle East and Central Asia\",\"marker\":{\"color\":\"#ab63fa\",\"pattern\":{\"shape\":\"\"}},\"name\":\"Middle East and Central Asia\",\"offsetgroup\":\"Middle East and Central Asia\",\"orientation\":\"v\",\"showlegend\":true,\"textposition\":\"auto\",\"texttemplate\":\"%{y}\",\"x\":[\"Middle East and Central Asia\"],\"xaxis\":\"x\",\"y\":[6530.354],\"yaxis\":\"y\",\"type\":\"bar\"},{\"alignmentgroup\":\"True\",\"hovertemplate\":\"Country=%{x}\\u003cbr\\u003eGDP (in Million USD)=%{y}\\u003cextra\\u003e\\u003c\\u002fextra\\u003e\",\"legendgroup\":\"Other advanced economies\",\"marker\":{\"color\":\"#FFA15A\",\"pattern\":{\"shape\":\"\"}},\"name\":\"Other advanced economies\",\"offsetgroup\":\"Other advanced economies\",\"orientation\":\"v\",\"showlegend\":true,\"textposition\":\"auto\",\"texttemplate\":\"%{y}\",\"x\":[\"Other advanced economies\"],\"xaxis\":\"x\",\"y\":[11295.67],\"yaxis\":\"y\",\"type\":\"bar\"},{\"alignmentgroup\":\"True\",\"hovertemplate\":\"Country=%{x}\\u003cbr\\u003eGDP (in Million USD)=%{y}\\u003cextra\\u003e\\u003c\\u002fextra\\u003e\",\"legendgroup\":\"Sub-Saharan Africa\",\"marker\":{\"color\":\"#19d3f3\",\"pattern\":{\"shape\":\"\"}},\"name\":\"Sub-Saharan Africa\",\"offsetgroup\":\"Sub-Saharan Africa\",\"orientation\":\"v\",\"showlegend\":true,\"textposition\":\"auto\",\"texttemplate\":\"%{y}\",\"x\":[\"Sub-Saharan Africa\"],\"xaxis\":\"x\",\"y\":[2481.12],\"yaxis\":\"y\",\"type\":\"bar\"},{\"alignmentgroup\":\"True\",\"hovertemplate\":\"Country=%{x}\\u003cbr\\u003eGDP (in Million USD)=%{y}\\u003cextra\\u003e\\u003c\\u002fextra\\u003e\",\"legendgroup\":\"World\",\"marker\":{\"color\":\"#FF6692\",\"pattern\":{\"shape\":\"\"}},\"name\":\"World\",\"offsetgroup\":\"World\",\"orientation\":\"v\",\"showlegend\":true,\"textposition\":\"auto\",\"texttemplate\":\"%{y}\",\"x\":[\"World\"],\"xaxis\":\"x\",\"y\":[139651.617],\"yaxis\":\"y\",\"type\":\"bar\"}],                        {\"template\":{\"data\":{\"histogram2dcontour\":[{\"type\":\"histogram2dcontour\",\"colorbar\":{\"outlinewidth\":0,\"ticks\":\"\"},\"colorscale\":[[0.0,\"#0d0887\"],[0.1111111111111111,\"#46039f\"],[0.2222222222222222,\"#7201a8\"],[0.3333333333333333,\"#9c179e\"],[0.4444444444444444,\"#bd3786\"],[0.5555555555555556,\"#d8576b\"],[0.6666666666666666,\"#ed7953\"],[0.7777777777777778,\"#fb9f3a\"],[0.8888888888888888,\"#fdca26\"],[1.0,\"#f0f921\"]]}],\"choropleth\":[{\"type\":\"choropleth\",\"colorbar\":{\"outlinewidth\":0,\"ticks\":\"\"}}],\"histogram2d\":[{\"type\":\"histogram2d\",\"colorbar\":{\"outlinewidth\":0,\"ticks\":\"\"},\"colorscale\":[[0.0,\"#0d0887\"],[0.1111111111111111,\"#46039f\"],[0.2222222222222222,\"#7201a8\"],[0.3333333333333333,\"#9c179e\"],[0.4444444444444444,\"#bd3786\"],[0.5555555555555556,\"#d8576b\"],[0.6666666666666666,\"#ed7953\"],[0.7777777777777778,\"#fb9f3a\"],[0.8888888888888888,\"#fdca26\"],[1.0,\"#f0f921\"]]}],\"heatmap\":[{\"type\":\"heatmap\",\"colorbar\":{\"outlinewidth\":0,\"ticks\":\"\"},\"colorscale\":[[0.0,\"#0d0887\"],[0.1111111111111111,\"#46039f\"],[0.2222222222222222,\"#7201a8\"],[0.3333333333333333,\"#9c179e\"],[0.4444444444444444,\"#bd3786\"],[0.5555555555555556,\"#d8576b\"],[0.6666666666666666,\"#ed7953\"],[0.7777777777777778,\"#fb9f3a\"],[0.8888888888888888,\"#fdca26\"],[1.0,\"#f0f921\"]]}],\"heatmapgl\":[{\"type\":\"heatmapgl\",\"colorbar\":{\"outlinewidth\":0,\"ticks\":\"\"},\"colorscale\":[[0.0,\"#0d0887\"],[0.1111111111111111,\"#46039f\"],[0.2222222222222222,\"#7201a8\"],[0.3333333333333333,\"#9c179e\"],[0.4444444444444444,\"#bd3786\"],[0.5555555555555556,\"#d8576b\"],[0.6666666666666666,\"#ed7953\"],[0.7777777777777778,\"#fb9f3a\"],[0.8888888888888888,\"#fdca26\"],[1.0,\"#f0f921\"]]}],\"contourcarpet\":[{\"type\":\"contourcarpet\",\"colorbar\":{\"outlinewidth\":0,\"ticks\":\"\"}}],\"contour\":[{\"type\":\"contour\",\"colorbar\":{\"outlinewidth\":0,\"ticks\":\"\"},\"colorscale\":[[0.0,\"#0d0887\"],[0.1111111111111111,\"#46039f\"],[0.2222222222222222,\"#7201a8\"],[0.3333333333333333,\"#9c179e\"],[0.4444444444444444,\"#bd3786\"],[0.5555555555555556,\"#d8576b\"],[0.6666666666666666,\"#ed7953\"],[0.7777777777777778,\"#fb9f3a\"],[0.8888888888888888,\"#fdca26\"],[1.0,\"#f0f921\"]]}],\"surface\":[{\"type\":\"surface\",\"colorbar\":{\"outlinewidth\":0,\"ticks\":\"\"},\"colorscale\":[[0.0,\"#0d0887\"],[0.1111111111111111,\"#46039f\"],[0.2222222222222222,\"#7201a8\"],[0.3333333333333333,\"#9c179e\"],[0.4444444444444444,\"#bd3786\"],[0.5555555555555556,\"#d8576b\"],[0.6666666666666666,\"#ed7953\"],[0.7777777777777778,\"#fb9f3a\"],[0.8888888888888888,\"#fdca26\"],[1.0,\"#f0f921\"]]}],\"mesh3d\":[{\"type\":\"mesh3d\",\"colorbar\":{\"outlinewidth\":0,\"ticks\":\"\"}}],\"scatter\":[{\"fillpattern\":{\"fillmode\":\"overlay\",\"size\":10,\"solidity\":0.2},\"type\":\"scatter\"}],\"parcoords\":[{\"type\":\"parcoords\",\"line\":{\"colorbar\":{\"outlinewidth\":0,\"ticks\":\"\"}}}],\"scatterpolargl\":[{\"type\":\"scatterpolargl\",\"marker\":{\"colorbar\":{\"outlinewidth\":0,\"ticks\":\"\"}}}],\"bar\":[{\"error_x\":{\"color\":\"#2a3f5f\"},\"error_y\":{\"color\":\"#2a3f5f\"},\"marker\":{\"line\":{\"color\":\"#E5ECF6\",\"width\":0.5},\"pattern\":{\"fillmode\":\"overlay\",\"size\":10,\"solidity\":0.2}},\"type\":\"bar\"}],\"scattergeo\":[{\"type\":\"scattergeo\",\"marker\":{\"colorbar\":{\"outlinewidth\":0,\"ticks\":\"\"}}}],\"scatterpolar\":[{\"type\":\"scatterpolar\",\"marker\":{\"colorbar\":{\"outlinewidth\":0,\"ticks\":\"\"}}}],\"histogram\":[{\"marker\":{\"pattern\":{\"fillmode\":\"overlay\",\"size\":10,\"solidity\":0.2}},\"type\":\"histogram\"}],\"scattergl\":[{\"type\":\"scattergl\",\"marker\":{\"colorbar\":{\"outlinewidth\":0,\"ticks\":\"\"}}}],\"scatter3d\":[{\"type\":\"scatter3d\",\"line\":{\"colorbar\":{\"outlinewidth\":0,\"ticks\":\"\"}},\"marker\":{\"colorbar\":{\"outlinewidth\":0,\"ticks\":\"\"}}}],\"scattermapbox\":[{\"type\":\"scattermapbox\",\"marker\":{\"colorbar\":{\"outlinewidth\":0,\"ticks\":\"\"}}}],\"scatterternary\":[{\"type\":\"scatterternary\",\"marker\":{\"colorbar\":{\"outlinewidth\":0,\"ticks\":\"\"}}}],\"scattercarpet\":[{\"type\":\"scattercarpet\",\"marker\":{\"colorbar\":{\"outlinewidth\":0,\"ticks\":\"\"}}}],\"carpet\":[{\"aaxis\":{\"endlinecolor\":\"#2a3f5f\",\"gridcolor\":\"white\",\"linecolor\":\"white\",\"minorgridcolor\":\"white\",\"startlinecolor\":\"#2a3f5f\"},\"baxis\":{\"endlinecolor\":\"#2a3f5f\",\"gridcolor\":\"white\",\"linecolor\":\"white\",\"minorgridcolor\":\"white\",\"startlinecolor\":\"#2a3f5f\"},\"type\":\"carpet\"}],\"table\":[{\"cells\":{\"fill\":{\"color\":\"#EBF0F8\"},\"line\":{\"color\":\"white\"}},\"header\":{\"fill\":{\"color\":\"#C8D4E3\"},\"line\":{\"color\":\"white\"}},\"type\":\"table\"}],\"barpolar\":[{\"marker\":{\"line\":{\"color\":\"#E5ECF6\",\"width\":0.5},\"pattern\":{\"fillmode\":\"overlay\",\"size\":10,\"solidity\":0.2}},\"type\":\"barpolar\"}],\"pie\":[{\"automargin\":true,\"type\":\"pie\"}]},\"layout\":{\"autotypenumbers\":\"strict\",\"colorway\":[\"#636efa\",\"#EF553B\",\"#00cc96\",\"#ab63fa\",\"#FFA15A\",\"#19d3f3\",\"#FF6692\",\"#B6E880\",\"#FF97FF\",\"#FECB52\"],\"font\":{\"color\":\"#2a3f5f\"},\"hovermode\":\"closest\",\"hoverlabel\":{\"align\":\"left\"},\"paper_bgcolor\":\"white\",\"plot_bgcolor\":\"#E5ECF6\",\"polar\":{\"bgcolor\":\"#E5ECF6\",\"angularaxis\":{\"gridcolor\":\"white\",\"linecolor\":\"white\",\"ticks\":\"\"},\"radialaxis\":{\"gridcolor\":\"white\",\"linecolor\":\"white\",\"ticks\":\"\"}},\"ternary\":{\"bgcolor\":\"#E5ECF6\",\"aaxis\":{\"gridcolor\":\"white\",\"linecolor\":\"white\",\"ticks\":\"\"},\"baxis\":{\"gridcolor\":\"white\",\"linecolor\":\"white\",\"ticks\":\"\"},\"caxis\":{\"gridcolor\":\"white\",\"linecolor\":\"white\",\"ticks\":\"\"}},\"coloraxis\":{\"colorbar\":{\"outlinewidth\":0,\"ticks\":\"\"}},\"colorscale\":{\"sequential\":[[0.0,\"#0d0887\"],[0.1111111111111111,\"#46039f\"],[0.2222222222222222,\"#7201a8\"],[0.3333333333333333,\"#9c179e\"],[0.4444444444444444,\"#bd3786\"],[0.5555555555555556,\"#d8576b\"],[0.6666666666666666,\"#ed7953\"],[0.7777777777777778,\"#fb9f3a\"],[0.8888888888888888,\"#fdca26\"],[1.0,\"#f0f921\"]],\"sequentialminus\":[[0.0,\"#0d0887\"],[0.1111111111111111,\"#46039f\"],[0.2222222222222222,\"#7201a8\"],[0.3333333333333333,\"#9c179e\"],[0.4444444444444444,\"#bd3786\"],[0.5555555555555556,\"#d8576b\"],[0.6666666666666666,\"#ed7953\"],[0.7777777777777778,\"#fb9f3a\"],[0.8888888888888888,\"#fdca26\"],[1.0,\"#f0f921\"]],\"diverging\":[[0,\"#8e0152\"],[0.1,\"#c51b7d\"],[0.2,\"#de77ae\"],[0.3,\"#f1b6da\"],[0.4,\"#fde0ef\"],[0.5,\"#f7f7f7\"],[0.6,\"#e6f5d0\"],[0.7,\"#b8e186\"],[0.8,\"#7fbc41\"],[0.9,\"#4d9221\"],[1,\"#276419\"]]},\"xaxis\":{\"gridcolor\":\"white\",\"linecolor\":\"white\",\"ticks\":\"\",\"title\":{\"standoff\":15},\"zerolinecolor\":\"white\",\"automargin\":true,\"zerolinewidth\":2},\"yaxis\":{\"gridcolor\":\"white\",\"linecolor\":\"white\",\"ticks\":\"\",\"title\":{\"standoff\":15},\"zerolinecolor\":\"white\",\"automargin\":true,\"zerolinewidth\":2},\"scene\":{\"xaxis\":{\"backgroundcolor\":\"#E5ECF6\",\"gridcolor\":\"white\",\"linecolor\":\"white\",\"showbackground\":true,\"ticks\":\"\",\"zerolinecolor\":\"white\",\"gridwidth\":2},\"yaxis\":{\"backgroundcolor\":\"#E5ECF6\",\"gridcolor\":\"white\",\"linecolor\":\"white\",\"showbackground\":true,\"ticks\":\"\",\"zerolinecolor\":\"white\",\"gridwidth\":2},\"zaxis\":{\"backgroundcolor\":\"#E5ECF6\",\"gridcolor\":\"white\",\"linecolor\":\"white\",\"showbackground\":true,\"ticks\":\"\",\"zerolinecolor\":\"white\",\"gridwidth\":2}},\"shapedefaults\":{\"line\":{\"color\":\"#2a3f5f\"}},\"annotationdefaults\":{\"arrowcolor\":\"#2a3f5f\",\"arrowhead\":0,\"arrowwidth\":1},\"geo\":{\"bgcolor\":\"white\",\"landcolor\":\"#E5ECF6\",\"subunitcolor\":\"white\",\"showland\":true,\"showlakes\":true,\"lakecolor\":\"white\"},\"title\":{\"x\":0.05},\"mapbox\":{\"style\":\"light\"}}},\"xaxis\":{\"anchor\":\"y\",\"domain\":[0.0,1.0],\"title\":{\"text\":\"Country\"},\"categoryorder\":\"array\",\"categoryarray\":[\"Albania\",\"Armenia\",\"Azerbaijan\",\"Belarus\",\"Bulgaria\",\"China, People's Republic of\",\"Georgia\",\"Kazakhstan\",\"Kyrgyz Republic\",\"Moldova\",\"Russian Federation\",\"Tajikistan\",\"Turkmenistan\",\"Ukraine\",\"Uzbekistan\",\"Africa (Region)\",\"Asia and Pacific\",\"Australia and New Zealand\",\"Caribbean\",\"Central America\",\"Central Asia and the Caucasus\",\"East Asia\",\"Eastern Europe \",\"Europe\",\"Middle East (Region)\",\"North Africa\",\"North America\",\"Pacific Islands \",\"South America\",\"South Asia\",\"Southeast Asia\",\"Sub-Saharan Africa (Region) \",\"Western Europe\",\"Western Hemisphere (Region)\",\"ASEAN-5\",\"Advanced economies\",\"Emerging and Developing Asia\",\"Emerging and Developing Europe\",\"Emerging market and developing economies\",\"Euro area\",\"European Union\",\"Latin America and the Caribbean\",\"Major advanced economies (G7)\",\"Middle East and Central Asia\",\"Other advanced economies\",\"Sub-Saharan Africa\",\"World\"]},\"yaxis\":{\"anchor\":\"x\",\"domain\":[0.0,1.0],\"title\":{\"text\":\"GDP (in Million USD)\"}},\"legend\":{\"title\":{\"text\":\"Country\"},\"tracegroupgap\":0},\"title\":{\"text\":\"Global GDP Distribution - 2029\"},\"barmode\":\"relative\"},                        {\"responsive\": true}                    ).then(function(){\n",
              "                            \n",
              "var gd = document.getElementById('92a0d35c-6af4-432c-87a9-deba736f28f3');\n",
              "var x = new MutationObserver(function (mutations, observer) {{\n",
              "        var display = window.getComputedStyle(gd).display;\n",
              "        if (!display || display === 'none') {{\n",
              "            console.log([gd, 'removed!']);\n",
              "            Plotly.purge(gd);\n",
              "            observer.disconnect();\n",
              "        }}\n",
              "}});\n",
              "\n",
              "// Listen for the removal of the full notebook cells\n",
              "var notebookContainer = gd.closest('#notebook-container');\n",
              "if (notebookContainer) {{\n",
              "    x.observe(notebookContainer, {childList: true});\n",
              "}}\n",
              "\n",
              "// Listen for the clearing of the current output cell\n",
              "var outputEl = gd.closest('.output');\n",
              "if (outputEl) {{\n",
              "    x.observe(outputEl, {childList: true});\n",
              "}}\n",
              "\n",
              "                        })                };                            </script>        </div>\n",
              "</body>\n",
              "</html>"
            ]
          },
          "metadata": {}
        }
      ]
    },
    {
      "cell_type": "code",
      "source": [
        "output_html = \"gdp_stacked_bar_plot.html\"\n",
        "fig_bar.write_html(output_html)\n",
        "print(f\"✅ Interactive plot saved as: {output_html}\")"
      ],
      "metadata": {
        "colab": {
          "base_uri": "https://localhost:8080/"
        },
        "id": "aEG8tPQuOTQa",
        "outputId": "2a0b7120-af10-4f05-cf8e-dd0a485c3f85"
      },
      "execution_count": 13,
      "outputs": [
        {
          "output_type": "stream",
          "name": "stdout",
          "text": [
            "✅ Interactive plot saved as: gdp_stacked_bar_plot.html\n"
          ]
        }
      ]
    },
    {
      "cell_type": "markdown",
      "source": [
        "Save plot to HTML file"
      ],
      "metadata": {
        "id": "5xjTGxD_LPSt"
      }
    },
    {
      "cell_type": "markdown",
      "source": [
        "## Part 2 of Hwk"
      ],
      "metadata": {
        "id": "IYCQpDI5OpT8"
      }
    },
    {
      "cell_type": "code",
      "source": [
        "import plotly.graph_objects as go\n",
        "subjectData = pd.read_csv(\"https://raw.githubusercontent.com/smart-stats/ds4bio_book/main/book/assetts/kirby21AllLevels.csv\")"
      ],
      "metadata": {
        "id": "I1-H-3nFOyI-"
      },
      "execution_count": 14,
      "outputs": []
    },
    {
      "cell_type": "code",
      "source": [
        "import pandas as pd\n",
        "import numpy as np\n",
        "import plotly.graph_objects as go"
      ],
      "metadata": {
        "id": "0ngtw1pNPAai"
      },
      "execution_count": 15,
      "outputs": []
    },
    {
      "cell_type": "code",
      "source": [
        "multilevel_lookup_data = {\n",
        "    \"roi\": [\"A\", \"B\", \"C\", \"D\", \"E\", \"F\", \"G\", \"H\"],\n",
        "    \"level1\": [\"Intracranial Volume\"] * 8,\n",
        "    \"level2\": [\"Region1\", \"Region1\", \"Region2\", \"Region2\", \"Region3\", \"Region3\", \"Region4\", \"Region4\"],\n",
        "    \"level3\": [\"Subregion1\", \"Subregion2\", \"Subregion3\", \"Subregion4\", \"Subregion5\", \"Subregion6\", \"Subregion7\", \"Subregion8\"]\n",
        "}"
      ],
      "metadata": {
        "id": "V8cf_A6xPB2r"
      },
      "execution_count": 16,
      "outputs": []
    },
    {
      "cell_type": "code",
      "source": [
        "multilevel_lookup = pd.DataFrame(multilevel_lookup_data)"
      ],
      "metadata": {
        "id": "wKufaCYyPNeS"
      },
      "execution_count": 17,
      "outputs": []
    },
    {
      "cell_type": "markdown",
      "source": [
        "Load the subject data"
      ],
      "metadata": {
        "id": "YS_dzErIPPrD"
      }
    },
    {
      "cell_type": "code",
      "source": [
        "id = 127\n",
        "subjectData = pd.read_csv(\"https://raw.githubusercontent.com/smart-stats/ds4bio_book/main/book/assetts/kirby21AllLevels.csv\")"
      ],
      "metadata": {
        "id": "hTro638iPT1l"
      },
      "execution_count": 18,
      "outputs": []
    },
    {
      "cell_type": "code",
      "source": [
        "subjectData = subjectData.loc[(subjectData[\"type\"] == 1) & (subjectData[\"level\"] == 5) & (subjectData[\"id\"] == id)]\n",
        "subjectData = subjectData[['roi', 'volume']]"
      ],
      "metadata": {
        "id": "jniXJGb9PaFa"
      },
      "execution_count": 19,
      "outputs": []
    },
    {
      "cell_type": "code",
      "source": [
        "subjectData = pd.merge(subjectData, multilevel_lookup, on=\"roi\", how=\"left\")"
      ],
      "metadata": {
        "id": "Vo6JQ-enPfzO"
      },
      "execution_count": 20,
      "outputs": []
    },
    {
      "cell_type": "markdown",
      "source": [
        "Normalizing Data at this point"
      ],
      "metadata": {
        "id": "dnoPW-R5PjF6"
      }
    },
    {
      "cell_type": "code",
      "source": [
        "subjectData = subjectData.assign(icv=\"Intracranial Volume\")\n",
        "subjectData = subjectData.assign(comp=subjectData['volume'] / np.sum(subjectData['volume']))"
      ],
      "metadata": {
        "id": "Il1EQ5BqPj-r"
      },
      "execution_count": 21,
      "outputs": []
    },
    {
      "cell_type": "markdown",
      "source": [
        "data preparation for Sankey PLot"
      ],
      "metadata": {
        "id": "1vUbFTinPqrN"
      }
    },
    {
      "cell_type": "code",
      "source": [
        "source_nodes = []\n",
        "target_nodes = []\n",
        "values = []\n",
        "unique_labels = list(set(subjectData[\"icv\"].tolist() + subjectData[\"level1\"].tolist() +\n",
        "                         subjectData[\"level2\"].tolist() + subjectData[\"level3\"].tolist()))\n",
        "\n",
        "label_to_index = {label: i for i, label in enumerate(unique_labels)}"
      ],
      "metadata": {
        "id": "u15TYreDPr0F"
      },
      "execution_count": 22,
      "outputs": []
    },
    {
      "cell_type": "code",
      "source": [
        "for _, row in subjectData.iterrows():\n",
        "    if row[\"icv\"] and row[\"level1\"]:\n",
        "        source_nodes.append(label_to_index[row[\"icv\"]])\n",
        "        target_nodes.append(label_to_index[row[\"level1\"]])\n",
        "        values.append(row[\"comp\"])\n",
        "\n",
        "    if row[\"level1\"] and row[\"level2\"]:\n",
        "        source_nodes.append(label_to_index[row[\"level1\"]])\n",
        "        target_nodes.append(label_to_index[row[\"level2\"]])\n",
        "        values.append(row[\"comp\"])\n",
        "\n",
        "    if row[\"level2\"] and row[\"level3\"]:\n",
        "        source_nodes.append(label_to_index[row[\"level2\"]])\n",
        "        target_nodes.append(label_to_index[row[\"level3\"]])\n",
        "        values.append(row[\"comp\"])"
      ],
      "metadata": {
        "id": "eoKBLQLVP2HV"
      },
      "execution_count": 23,
      "outputs": []
    },
    {
      "cell_type": "markdown",
      "source": [
        "Do the Sankey PLot"
      ],
      "metadata": {
        "id": "dOPA-G0JQ6QL"
      }
    },
    {
      "cell_type": "code",
      "source": [
        "fig = go.Figure(data=[go.Sankey(\n",
        "    node=dict(\n",
        "        pad=15,\n",
        "        thickness=20,\n",
        "        line=dict(color=\"black\", width=0.5),\n",
        "        label=unique_labels\n",
        "    ),\n",
        "    link=dict(\n",
        "        source=source_nodes,\n",
        "        target=target_nodes,\n",
        "        value=values\n",
        "    ))])\n",
        "\n",
        "fig.update_layout(title_text=\"MRICloud Data as a Sankey Diagram\", font_size=10)\n",
        "fig.show()"
      ],
      "metadata": {
        "colab": {
          "base_uri": "https://localhost:8080/",
          "height": 542
        },
        "id": "IGfIgd4GQ-0f",
        "outputId": "72efb486-6388-4e02-cfdb-a3d778424931"
      },
      "execution_count": 24,
      "outputs": [
        {
          "output_type": "display_data",
          "data": {
            "text/html": [
              "<html>\n",
              "<head><meta charset=\"utf-8\" /></head>\n",
              "<body>\n",
              "    <div>            <script src=\"https://cdnjs.cloudflare.com/ajax/libs/mathjax/2.7.5/MathJax.js?config=TeX-AMS-MML_SVG\"></script><script type=\"text/javascript\">if (window.MathJax && window.MathJax.Hub && window.MathJax.Hub.Config) {window.MathJax.Hub.Config({SVG: {font: \"STIX-Web\"}});}</script>                <script type=\"text/javascript\">window.PlotlyConfig = {MathJaxConfig: 'local'};</script>\n",
              "        <script charset=\"utf-8\" src=\"https://cdn.plot.ly/plotly-2.35.2.min.js\"></script>                <div id=\"8a5a4986-7b82-4663-bc5a-e0731895f614\" class=\"plotly-graph-div\" style=\"height:525px; width:100%;\"></div>            <script type=\"text/javascript\">                                    window.PLOTLYENV=window.PLOTLYENV || {};                                    if (document.getElementById(\"8a5a4986-7b82-4663-bc5a-e0731895f614\")) {                    Plotly.newPlot(                        \"8a5a4986-7b82-4663-bc5a-e0731895f614\",                        [{\"link\":{\"source\":[1,0,0,1,0,0,1,0,0,1,0,0,1,0,0,1,0,0,1,0,0,1,0,0,1,0,0,1,0,0,1,0,0,1,0,0,1,0,0,1,0,0,1,0,0,1,0,0,1,0,0,1,0,0,1,0,0,1,0,0,1,0,0,1,0,0,1,0,0,1,0,0,1,0,0,1,0,0,1,0,0,1,0,0,1,0,0,1,0,0,1,0,0,1,0,0,1,0,0,1,0,0,1,0,0,1,0,0,1,0,0,1,0,0,1,0,0,1,0,0,1,0,0,1,0,0,1,0,0,1,0,0,1,0,0,1,0,0,1,0,0,1,0,0,1,0,0,1,0,0,1,0,0,1,0,0,1,0,0,1,0,0,1,0,0,1,0,0,1,0,0,1,0,0,1,0,0,1,0,0,1,0,0,1,0,0,1,0,0,1,0,0,1,0,0,1,0,0,1,0,0,1,0,0,1,0,0,1,0,0,1,0,0,1,0,0,1,0,0,1,0,0,1,0,0,1,0,0,1,0,0,1,0,0,1,0,0,1,0,0,1,0,0,1,0,0,1,0,0,1,0,0,1,0,0,1,0,0,1,0,0,1,0,0,1,0,0,1,0,0,1,0,0,1,0,0,1,0,0,1,0,0,1,0,0,1,0,0,1,0,0,1,0,0,1,0,0,1,0,0,1,0,0,1,0,0,1,0,0,1,0,0,1,0,0,1,0,0,1,0,0,1,0,0,1,0,0,1,0,0,1,0,0,1,0,0,1,0,0,1,0,0,1,0,0,1,0,0,1,0,0,1,0,0,1,0,0,1,0,0,1,0,0,1,0,0,1,0,0,1,0,0,1,0,0,1,0,0,1,0,0,1,0,0,1,0,0,1,0,0,1,0,0,1,0,0,1,0,0,1,0,0,1,0,0,1,0,0,1,0,0,1,0,0,1,0,0,1,0,0,1,0,0,1,0,0,1,0,0,1,0,0,1,0,0,1,0,0,1,0,0,1,0,0,1,0,0,1,0,0,1,0,0,1,0,0,1,0,0,1,0,0,1,0,0,1,0,0,1,0,0,1,0,0,1,0,0,1,0,0,1,0,0,1,0,0,1,0,0,1,0,0,1,0,0,1,0,0,1,0,0,1,0,0,1,0,0,1,0,0,1,0,0,1,0,0,1,0,0,1,0,0,1,0,0,1,0,0,1,0,0,1,0,0,1,0,0,1,0,0,1,0,0,1,0,0,1,0,0,1,0,0,1,0,0,1,0,0,1,0,0,1,0,0,1,0,0,1,0,0,1,0,0,1,0,0,1,0,0,1,0,0,1,0,0,1,0,0,1,0,0,1,0,0,1,0,0,1,0,0,1,0,0,1,0,0,1,0,0,1,0,0,1,0,0,1,0,0,1,0,0,1,0,0,1,0,0,1,0,0,1,0,0,1,0,0,1,0,0,1,0,0,1,0,0,1,0,0,1,0,0,1,0,0,1,0,0,1,0,0,1,0,0,1,0,0,1,0,0,1,0,0,1,0,0,1,0,0,1,0,0,1,0,0,1,0,0,1,0,0,1,0,0,1,0,0,1,0,0,1,0,0,1,0,0,1,0,0,1,0,0,1,0,0,1,0,0,1,0,0,1,0,0,1,0,0,1,0,0,1,0,0,1,0,0,1,0,0,1,0,0,1,0,0,1,0,0,1,0,0,1,0,0,1,0,0,1,0,0,1,0,0,1,0,0,1,0,0,1,0,0,1,0,0,1,0,0,1,0,0,1,0,0,1,0,0,1,0,0,1,0,0,1,0,0,1,0,0,1,0,0,1,0,0,1,0,0,1,0,0,1,0,0,1,0,0,1,0,0,1,0,0,1,0,0,1,0,0],\"target\":[0,0,0,0,0,0,0,0,0,0,0,0,0,0,0,0,0,0,0,0,0,0,0,0,0,0,0,0,0,0,0,0,0,0,0,0,0,0,0,0,0,0,0,0,0,0,0,0,0,0,0,0,0,0,0,0,0,0,0,0,0,0,0,0,0,0,0,0,0,0,0,0,0,0,0,0,0,0,0,0,0,0,0,0,0,0,0,0,0,0,0,0,0,0,0,0,0,0,0,0,0,0,0,0,0,0,0,0,0,0,0,0,0,0,0,0,0,0,0,0,0,0,0,0,0,0,0,0,0,0,0,0,0,0,0,0,0,0,0,0,0,0,0,0,0,0,0,0,0,0,0,0,0,0,0,0,0,0,0,0,0,0,0,0,0,0,0,0,0,0,0,0,0,0,0,0,0,0,0,0,0,0,0,0,0,0,0,0,0,0,0,0,0,0,0,0,0,0,0,0,0,0,0,0,0,0,0,0,0,0,0,0,0,0,0,0,0,0,0,0,0,0,0,0,0,0,0,0,0,0,0,0,0,0,0,0,0,0,0,0,0,0,0,0,0,0,0,0,0,0,0,0,0,0,0,0,0,0,0,0,0,0,0,0,0,0,0,0,0,0,0,0,0,0,0,0,0,0,0,0,0,0,0,0,0,0,0,0,0,0,0,0,0,0,0,0,0,0,0,0,0,0,0,0,0,0,0,0,0,0,0,0,0,0,0,0,0,0,0,0,0,0,0,0,0,0,0,0,0,0,0,0,0,0,0,0,0,0,0,0,0,0,0,0,0,0,0,0,0,0,0,0,0,0,0,0,0,0,0,0,0,0,0,0,0,0,0,0,0,0,0,0,0,0,0,0,0,0,0,0,0,0,0,0,0,0,0,0,0,0,0,0,0,0,0,0,0,0,0,0,0,0,0,0,0,0,0,0,0,0,0,0,0,0,0,0,0,0,0,0,0,0,0,0,0,0,0,0,0,0,0,0,0,0,0,0,0,0,0,0,0,0,0,0,0,0,0,0,0,0,0,0,0,0,0,0,0,0,0,0,0,0,0,0,0,0,0,0,0,0,0,0,0,0,0,0,0,0,0,0,0,0,0,0,0,0,0,0,0,0,0,0,0,0,0,0,0,0,0,0,0,0,0,0,0,0,0,0,0,0,0,0,0,0,0,0,0,0,0,0,0,0,0,0,0,0,0,0,0,0,0,0,0,0,0,0,0,0,0,0,0,0,0,0,0,0,0,0,0,0,0,0,0,0,0,0,0,0,0,0,0,0,0,0,0,0,0,0,0,0,0,0,0,0,0,0,0,0,0,0,0,0,0,0,0,0,0,0,0,0,0,0,0,0,0,0,0,0,0,0,0,0,0,0,0,0,0,0,0,0,0,0,0,0,0,0,0,0,0,0,0,0,0,0,0,0,0,0,0,0,0,0,0,0,0,0,0,0,0,0,0,0,0,0,0,0,0,0,0,0,0,0,0,0,0,0,0,0,0,0,0,0,0,0,0,0,0,0,0,0,0,0,0,0,0,0,0,0,0,0,0,0,0,0,0,0,0,0,0,0,0,0,0,0,0,0,0,0,0,0,0,0,0,0,0,0,0,0,0,0,0,0,0,0,0,0,0,0,0,0,0,0,0,0,0,0,0,0,0,0,0,0,0,0,0,0,0,0,0,0,0,0,0,0,0,0,0,0,0,0,0,0,0,0,0,0,0,0,0,0,0,0,0,0,0,0,0,0,0,0,0,0,0,0,0,0,0,0,0,0,0,0,0,0,0,0,0,0,0,0,0,0,0,0,0,0,0,0,0,0,0,0,0,0,0,0,0,0,0,0,0,0,0,0,0,0,0,0,0,0,0,0,0,0,0,0,0,0],\"value\":[0.009377505159949362,0.009377505159949362,0.009377505159949362,0.0072910356535270835,0.0072910356535270835,0.0072910356535270835,0.009273762065575793,0.009273762065575793,0.009273762065575793,0.008348054454242403,0.008348054454242403,0.008348054454242403,0.0022330156956772503,0.0022330156956772503,0.0022330156956772503,0.003535970922914528,0.003535970922914528,0.003535970922914528,0.007209782320870862,0.007209782320870862,0.007209782320870862,0.008089784932585126,0.008089784932585126,0.008089784932585126,0.011825261806218056,0.011825261806218056,0.011825261806218056,0.011933357757698208,0.011933357757698208,0.011933357757698208,0.0030680387839568195,0.0030680387839568195,0.0030680387839568195,0.002962844737214389,0.002962844737214389,0.002962844737214389,0.0033016421153434588,0.0033016421153434588,0.0033016421153434588,0.002806141881377389,0.002806141881377389,0.002806141881377389,0.0031202730692358196,0.0031202730692358196,0.0031202730692358196,0.002653066406462542,0.002653066406462542,0.002653066406462542,0.003409738066823611,0.003409738066823611,0.003409738066823611,0.0032573880680931947,0.0032573880680931947,0.0032573880680931947,0.003492442351848695,0.003492442351848695,0.003492442351848695,0.0034416590189385557,0.0034416590189385557,0.0034416590189385557,0.0045734018666502224,0.0045734018666502224,0.0045734018666502224,0.00450448162912932,0.00450448162912932,0.00450448162912932,0.007761144221038084,0.007761144221038084,0.007761144221038084,0.00810937278956475,0.00810937278956475,0.00810937278956475,0.010697871815612972,0.010697871815612972,0.010697871815612972,0.012712519179776626,0.012712519179776626,0.012712519179776626,0.005487501859032722,0.005487501859032722,0.005487501859032722,0.005026099005734889,0.005026099005734889,0.005026099005734889,0.006257957566897973,0.006257957566897973,0.006257957566897973,0.006889847323536986,0.006889847323536986,0.006889847323536986,0.0053902880503190285,0.0053902880503190285,0.0053902880503190285,0.009851966584566945,0.009851966584566945,0.009851966584566945,0.005338779241224459,0.005338779241224459,0.005338779241224459,0.004769280436446473,0.004769280436446473,0.004769280436446473,0.009399994921666708,0.009399994921666708,0.009399994921666708,0.008163783503397042,0.008163783503397042,0.008163783503397042,0.0035287161610702226,0.0035287161610702226,0.0035287161610702226,0.003920473300662723,0.003920473300662723,0.003920473300662723,0.011780282282783362,0.011780282282783362,0.011780282282783362,0.011833242044246793,0.011833242044246793,0.011833242044246793,0.001955883793224778,0.001955883793224778,0.001955883793224778,0.002169173791447361,0.002169173791447361,0.002169173791447361,0.009107628019341195,0.009107628019341195,0.009107628019341195,0.008949474211135334,0.008949474211135334,0.008949474211135334,0.0009068452305381945,0.0009068452305381945,0.0009068452305381945,0.0009053942781693334,0.0009053942781693334,0.0009053942781693334,0.0006746928515204167,0.0006746928515204167,0.0006746928515204167,0.0007552207079922084,0.0007552207079922084,0.0007552207079922084,0.010179881819929557,0.010179881819929557,0.010179881819929557,0.009804085156394528,0.009804085156394528,0.009804085156394528,0.0018630228416176668,0.0018630228416176668,0.0018630228416176668,0.0016453799862885,0.0016453799862885,0.0016453799862885,0.011819457996742612,0.011819457996742612,0.011819457996742612,0.01027564467627439,0.01027564467627439,0.01027564467627439,0.0031122928312070836,0.0031122928312070836,0.0031122928312070836,0.0032465059253267365,0.0032465059253267365,0.0032465059253267365,0.004380425201591695,0.004380425201591695,0.004380425201591695,0.0049615316253205696,0.0049615316253205696,0.0049615316253205696,0.0058531418559857225,0.0058531418559857225,0.0058531418559857225,0.00528799590831432,0.00528799590831432,0.00528799590831432,0.0019065514126835,0.0019065514126835,0.0019065514126835,0.0026392823589583615,0.0026392823589583615,0.0026392823589583615,0.00034169928286679167,0.00034169928286679167,0.00034169928286679167,0.00043383475828947225,0.00043383475828947225,0.00043383475828947225,0.0011208607049452083,0.0011208607049452083,0.0011208607049452083,0.001173820466408639,0.001173820466408639,0.001173820466408639,0.008910298497176084,0.008910298497176084,0.008910298497176084,0.00910109873368132,0.00910109873368132,0.00910109873368132,0.004148272822573917,0.004148272822573917,0.004148272822573917,0.005889415665207251,0.005889415665207251,0.005889415665207251,0.005253173051461653,0.005253173051461653,0.005253173051461653,0.005137822338137195,0.005137822338137195,0.005137822338137195,0.0014386192737257917,0.0014386192737257917,0.0014386192737257917,0.0017041435572273751,0.0017041435572273751,0.0017041435572273751,0.00284604307152107,0.00284604307152107,0.00284604307152107,0.002709653548848125,0.002709653548848125,0.002709653548848125,0.0025899499784170837,0.0025899499784170837,0.0025899499784170837,0.0027009478346349584,0.0027009478346349584,0.0027009478346349584,0.0031812130687279864,0.0031812130687279864,0.0031812130687279864,0.0031920952114944446,0.0031920952114944446,0.0031920952114944446,0.000992451420301,0.000992451420301,0.000992451420301,0.0010722538005883612,0.0010722538005883612,0.0010722538005883612,0.004600969961658583,0.004600969961658583,0.004600969961658583,0.004622734247191501,0.004622734247191501,0.004622734247191501,0.0004824416626463195,0.0004824416626463195,0.0004824416626463195,0.0005520873763516528,0.0005520873763516528,0.0005520873763516528,0.00029454333087880556,0.00029454333087880556,0.00029454333087880556,0.0002974452356165278,0.0002974452356165278,0.0002974452356165278,0.0005165390433145556,0.0005165390433145556,0.0005165390433145556,0.0005673223762246945,0.0005673223762246945,0.0005673223762246945,0.00025391666455069445,0.00025391666455069445,0.00025391666455069445,0.0003119547593051389,0.0003119547593051389,0.0003119547593051389,0.00028075928337462503,0.00028075928337462503,0.00028075928337462503,0.00018572190321422224,0.00018572190321422224,0.00018572190321422224,0.04244325869392523,0.04244325869392523,0.04244325869392523,0.043118677021630074,0.043118677021630074,0.043118677021630074,0.0014037964168731251,0.0014037964168731251,0.0014037964168731251,0.001461109035443139,0.001461109035443139,0.001461109035443139,0.0016490073672106528,0.0016490073672106528,0.0016490073672106528,0.0019051004603146391,0.0019051004603146391,0.0019051004603146391,0.0011382721333715417,0.0011382721333715417,0.0011382721333715417,0.0010352545151824028,0.0010352545151824028,0.0010352545151824028,0.00069210427994675,0.00069210427994675,0.00069210427994675,0.0007544952318077778,0.0007544952318077778,0.0007544952318077778,0.0021017045062953197,0.0021017045062953197,0.0021017045062953197,0.0021742521247383752,0.0021742521247383752,0.0021742521247383752,0.0006993590417910556,0.0006993590417910556,0.0006993590417910556,0.0006181057091348334,0.0006181057091348334,0.0006181057091348334,0.0006471247565120556,0.0006471247565120556,0.0006471247565120556,0.0006717909467826945,0.0006717909467826945,0.0006717909467826945,0.0006108509472905278,0.0006108509472905278,0.0006108509472905278,0.000776984993525125,0.000776984993525125,0.000776984993525125,0.00019370214124295835,0.00019370214124295835,0.00019370214124295835,0.00047010856751100006,0.00047010856751100006,0.00047010856751100006,0.0010961945146745694,0.0010961945146745694,0.0010961945146745694,0.0011941337995726945,0.0011941337995726945,0.0011941337995726945,0.009140999923825001,0.009140999923825001,0.009140999923825001,0.009634323729237778,0.009634323729237778,0.009634323729237778,0.009765634918619709,0.009765634918619709,0.009765634918619709,0.010410583246578472,0.010410583246578472,0.010410583246578472,0.0031920952114944446,0.0031920952114944446,0.0031920952114944446,0.0027364961676720556,0.0027364961676720556,0.0027364961676720556,0.0018746304605685557,0.0018746304605685557,0.0018746304605685557,0.001993608554815167,0.001993608554815167,0.001993608554815167,0.002988961879853889,0.002988961879853889,0.002988961879853889,0.003255211639539903,0.003255211639539903,0.003255211639539903,0.003937159252904625,0.003937159252904625,0.003937159252904625,0.004303524726042056,0.004303524726042056,0.004303524726042056,0.0002843866642967778,0.0002843866642967778,0.0002843866642967778,0.0002843866642967778,0.0002843866642967778,0.0002843866642967778,0.0017005161763052224,0.0017005161763052224,0.0017005161763052224,0.0018340037942404445,0.0018340037942404445,0.0018340037942404445,0.002458638789035153,0.002458638789035153,0.002458638789035153,0.0023918949800675418,0.0023918949800675418,0.0023918949800675418,0.0022228590290952225,0.0022228590290952225,0.0022228590290952225,0.0022489761717347225,0.0022489761717347225,0.0022489761717347225,0.0023984242657274168,0.0023984242657274168,0.0023984242657274168,0.0022975830760915694,0.0022975830760915694,0.0022975830760915694,0.0022743678381897917,0.0022743678381897917,0.0022743678381897917,0.0025848716451260696,0.0025848716451260696,0.0025848716451260696,0.0013138373700037362,0.0013138373700037362,0.0013138373700037362,0.0012514464181427084,0.0012514464181427084,0.0012514464181427084,0.0010338035628135417,0.0010338035628135417,0.0010338035628135417,0.001043234753211139,0.001043234753211139,0.001043234753211139,0.0006551049945407917,0.0006551049945407917,0.0006551049945407917,0.0007225742796928334,0.0007225742796928334,0.0007225742796928334,0.0013116609414504446,0.0013116609414504446,0.0013116609414504446,0.0013530130839629862,0.0013530130839629862,0.0013530130839629862,0.00513129305247732,0.00513129305247732,0.00513129305247732,0.004117802822827834,0.004117802822827834,0.004117802822827834,0.0026044595021056946,0.0026044595021056946,0.0026044595021056946,0.0029331002136527362,0.0029331002136527362,0.0029331002136527362,0.00026334785494829167,0.00026334785494829167,0.00026334785494829167,0.00020023142690283336,0.00020023142690283336,0.00020023142690283336,0.005070353052985153,0.005070353052985153,0.005070353052985153,0.005645655667238584,0.005645655667238584,0.005645655667238584,0.0003039745212764028,0.0003039745212764028,0.0003039745212764028,0.0004084430918344028,0.0004084430918344028,0.0004084430918344028,0.0012528973705115696,0.0012528973705115696,0.0012528973705115696,0.0010664499911129167,0.0010664499911129167,0.0010664499911129167,0.00007544952318077778,0.00007544952318077778,0.00007544952318077778,0.00009068452305381946,0.00009068452305381946,0.00009068452305381946,0.004901317102012834,0.004901317102012834,0.004901317102012834,0.006036687330646653,0.006036687330646653,0.006036687330646653,0.003307445924818903,0.003307445924818903,0.003307445924818903,0.00030324904509197227,0.00030324904509197227,0.00030324904509197227,0.0006050471378150834,0.0006050471378150834,0.0006050471378150834,0.00426942734537382,0.00426942734537382,0.00426942734537382,0.005774064951882792,0.005774064951882792,0.005774064951882792,0.002974452356165278,0.002974452356165278,0.002974452356165278,0.00008705714213166667,0.00008705714213166667,0.00008705714213166667,0.000659457851647375,0.000659457851647375,0.000659457851647375,0.0017542014139530836,0.0017542014139530836,0.0017542014139530836,0.0006064980901839445,0.0006064980901839445,0.0006064980901839445,0.0006289878519012917,0.0006289878519012917,0.0006289878519012917,0.0005694988047779861,0.0005694988047779861,0.0005694988047779861,0.00047155951987986114,0.00047155951987986114,0.00047155951987986114,0.0061106859014585695,0.0061106859014585695,0.0061106859014585695,0.005543363525233875,0.005543363525233875,0.005543363525233875,0.006474149469858278,0.006474149469858278,0.006474149469858278,0.006362426137455973,0.006362426137455973,0.006362426137455973,0.0003714438064284445,0.0003714438064284445,0.0003714438064284445,0.0005876357093887501,0.0005876357093887501,0.0005876357093887501,0.005097195671809084,0.005097195671809084,0.005097195671809084,0.005347484955437625,0.005347484955437625,0.005347484955437625,0.003563539017922889,0.003563539017922889,0.003563539017922889,0.0044674823437233615,0.0044674823437233615,0.0044674823437233615,0.0016134590341735557,0.0016134590341735557,0.0016134590341735557,0.0027713190245247225,0.0027713190245247225,0.0027713190245247225,0.0024804030745680695,0.0024804030745680695,0.0024804030745680695,0.0018020828421255002,0.0018020828421255002,0.0018020828421255002,0.0033683859243110697,0.0033683859243110697,0.0033683859243110697,0.0026668504539667224,0.0026668504539667224,0.0026668504539667224,0.0018340037942404445,0.0018340037942404445,0.0018340037942404445,0.0014451485593856667,0.0014451485593856667,0.0014451485593856667,0.0016236157007555835,0.0016236157007555835,0.0016236157007555835,0.0015039121303245418,0.0015039121303245418,0.0015039121303245418,0.002064705220889361,0.002064705220889361,0.002064705220889361,0.0025442449787979587,0.0025442449787979587,0.0025442449787979587,0.006124469948962751,0.006124469948962751,0.006124469948962751,0.0064465813748499174,0.0064465813748499174,0.0064465813748499174,0.008752144688970223,0.008752144688970223,0.008752144688970223,0.01065434324454714,0.01065434324454714,0.01065434324454714,0.005408424954929792,0.005408424954929792,0.005408424954929792,0.005298878051080778,0.005298878051080778,0.005298878051080778,0.002854748785734236,0.002854748785734236,0.002854748785734236,0.003468501637762486,0.003468501637762486,0.003468501637762486,0.0026378314065895,0.0026378314065895,0.0026378314065895,0.003699203064411403,0.003699203064411403,0.003699203064411403,0.0021655464105252084,0.0021655464105252084,0.0021655464105252084,0.001839807603715889,0.001839807603715889,0.001839807603715889,0.006384190422988889,0.006384190422988889,0.006384190422988889,0.0056870078097511255,0.0056870078097511255,0.0056870078097511255,0.0009380407064687084,0.0009380407064687084,0.0009380407064687084,0.0009307859446244028,0.0009307859446244028,0.0009307859446244028,0.0068426913715490005,0.0068426913715490005,0.0068426913715490005,0.007761144221038084,0.007761144221038084,0.007761144221038084,0.001172369514039778,0.001172369514039778,0.001172369514039778,0.0013131118938193057,0.0013131118938193057,0.0013131118938193057,0.0045262459146622365,0.0045262459146622365,0.0045262459146622365,0.004030020204511736,0.004030020204511736,0.004030020204511736,0.003802220682600542,0.003802220682600542,0.003802220682600542,0.00417801734613557,0.00417801734613557,0.00417801734613557,0.0023171709330711944,0.0023171709330711944,0.0023171709330711944,0.002730692358196611,0.002730692358196611,0.002730692358196611,0.008840652783470751,0.008840652783470751,0.008840652783470751,0.008784065641085166,0.008784065641085166,0.008784065641085166,0.0013842085598935,0.0013842085598935,0.0013842085598935,0.002455011408113,0.002455011408113,0.002455011408113,0.004385503534882708,0.004385503534882708,0.004385503534882708,0.003496795208955278,0.003496795208955278,0.003496795208955278,0.006148410663048959,0.006148410663048959,0.006148410663048959,0.004838926150151806,0.004838926150151806,0.004838926150151806,0.00018499642702979167,0.00018499642702979167,0.00018499642702979167,1.4509523688611112e-6,1.4509523688611112e-6,1.4509523688611112e-6,0.00008705714213166667,0.00008705714213166667,0.00008705714213166667,0.00007690047554963889,0.00007690047554963889,0.00007690047554963889,0.00017266333189447223,0.00017266333189447223,0.00017266333189447223,0.00010374309437356945,0.00010374309437356945,0.00010374309437356945,0.002091547839713292,0.002091547839713292,0.002091547839713292,0.0013000533224995557,0.0013000533224995557,0.0013000533224995557,0.0025797933118350555,0.0025797933118350555,0.0025797933118350555,0.002858376166656389,0.002858376166656389,0.002858376166656389,0.007367210652892292,0.007367210652892292,0.007367210652892292,0.0066439108970150285,0.0066439108970150285,0.0066439108970150285,0.0020821166493156947,0.0020821166493156947,0.0020821166493156947,0.0019174335554499585,0.0019174335554499585,0.0019174335554499585,0.00039320809196136114,0.00039320809196136114,0.00039320809196136114,0.000417874282232,0.000417874282232,0.000417874282232,0.010885044671196057,0.010885044671196057,0.010885044671196057,0.008148548503524,0.008148548503524,0.008148548503524,0.0015663030821855696,0.0015663030821855696,0.0015663030821855696,0.0012695833227534723,0.0012695833227534723,0.0012695833227534723,0.0011527816570601529,0.0011527816570601529,0.0011527816570601529,0.0008524345167059028,0.0008524345167059028,0.0008524345167059028,0.001159310942720028,0.001159310942720028,0.001159310942720028,0.0010606461816374724,0.0010606461816374724,0.0010606461816374724,0.00046430475803555557,0.00046430475803555557,0.00046430475803555557,0.000208937141116,0.000208937141116,0.000208937141116,0.006339936375738625,0.006339936375738625,0.006339936375738625,0.007057432322140445,0.007057432322140445,0.007057432322140445,0.0008509835643370418,0.0008509835643370418,0.0008509835643370418,0.0010294507057069585,0.0010294507057069585,0.0010294507057069585,0.0014030709406886944,0.0014030709406886944,0.0014030709406886944,0.0014901280828203613,0.0014901280828203613,0.0014901280828203613,0.0008263173740664029,0.0008263173740664029,0.0008263173740664029,0.0006601833278318056,0.0006601833278318056,0.0006601833278318056,0.00026334785494829167,0.00026334785494829167,0.00026334785494829167,0.00003627380922152778,0.00003627380922152778,0.00003627380922152778,0.00025028928362854166,0.00025028928362854166,0.00025028928362854166,0.000032646428299375,0.000032646428299375,0.000032646428299375,0.0003221114258871667,0.0003221114258871667,0.0003221114258871667,0.0002691516644237361,0.0002691516644237361,0.0002691516644237361,0.0019587856979625,0.0019587856979625,0.0019587856979625,0.00021183904585372223,0.00021183904585372223,0.00021183904585372223,0.00021183904585372223,0.00021183904585372223,0.00021183904585372223]},\"node\":{\"label\":[null,\"Intracranial Volume\"],\"line\":{\"color\":\"black\",\"width\":0.5},\"pad\":15,\"thickness\":20},\"type\":\"sankey\"}],                        {\"template\":{\"data\":{\"histogram2dcontour\":[{\"type\":\"histogram2dcontour\",\"colorbar\":{\"outlinewidth\":0,\"ticks\":\"\"},\"colorscale\":[[0.0,\"#0d0887\"],[0.1111111111111111,\"#46039f\"],[0.2222222222222222,\"#7201a8\"],[0.3333333333333333,\"#9c179e\"],[0.4444444444444444,\"#bd3786\"],[0.5555555555555556,\"#d8576b\"],[0.6666666666666666,\"#ed7953\"],[0.7777777777777778,\"#fb9f3a\"],[0.8888888888888888,\"#fdca26\"],[1.0,\"#f0f921\"]]}],\"choropleth\":[{\"type\":\"choropleth\",\"colorbar\":{\"outlinewidth\":0,\"ticks\":\"\"}}],\"histogram2d\":[{\"type\":\"histogram2d\",\"colorbar\":{\"outlinewidth\":0,\"ticks\":\"\"},\"colorscale\":[[0.0,\"#0d0887\"],[0.1111111111111111,\"#46039f\"],[0.2222222222222222,\"#7201a8\"],[0.3333333333333333,\"#9c179e\"],[0.4444444444444444,\"#bd3786\"],[0.5555555555555556,\"#d8576b\"],[0.6666666666666666,\"#ed7953\"],[0.7777777777777778,\"#fb9f3a\"],[0.8888888888888888,\"#fdca26\"],[1.0,\"#f0f921\"]]}],\"heatmap\":[{\"type\":\"heatmap\",\"colorbar\":{\"outlinewidth\":0,\"ticks\":\"\"},\"colorscale\":[[0.0,\"#0d0887\"],[0.1111111111111111,\"#46039f\"],[0.2222222222222222,\"#7201a8\"],[0.3333333333333333,\"#9c179e\"],[0.4444444444444444,\"#bd3786\"],[0.5555555555555556,\"#d8576b\"],[0.6666666666666666,\"#ed7953\"],[0.7777777777777778,\"#fb9f3a\"],[0.8888888888888888,\"#fdca26\"],[1.0,\"#f0f921\"]]}],\"heatmapgl\":[{\"type\":\"heatmapgl\",\"colorbar\":{\"outlinewidth\":0,\"ticks\":\"\"},\"colorscale\":[[0.0,\"#0d0887\"],[0.1111111111111111,\"#46039f\"],[0.2222222222222222,\"#7201a8\"],[0.3333333333333333,\"#9c179e\"],[0.4444444444444444,\"#bd3786\"],[0.5555555555555556,\"#d8576b\"],[0.6666666666666666,\"#ed7953\"],[0.7777777777777778,\"#fb9f3a\"],[0.8888888888888888,\"#fdca26\"],[1.0,\"#f0f921\"]]}],\"contourcarpet\":[{\"type\":\"contourcarpet\",\"colorbar\":{\"outlinewidth\":0,\"ticks\":\"\"}}],\"contour\":[{\"type\":\"contour\",\"colorbar\":{\"outlinewidth\":0,\"ticks\":\"\"},\"colorscale\":[[0.0,\"#0d0887\"],[0.1111111111111111,\"#46039f\"],[0.2222222222222222,\"#7201a8\"],[0.3333333333333333,\"#9c179e\"],[0.4444444444444444,\"#bd3786\"],[0.5555555555555556,\"#d8576b\"],[0.6666666666666666,\"#ed7953\"],[0.7777777777777778,\"#fb9f3a\"],[0.8888888888888888,\"#fdca26\"],[1.0,\"#f0f921\"]]}],\"surface\":[{\"type\":\"surface\",\"colorbar\":{\"outlinewidth\":0,\"ticks\":\"\"},\"colorscale\":[[0.0,\"#0d0887\"],[0.1111111111111111,\"#46039f\"],[0.2222222222222222,\"#7201a8\"],[0.3333333333333333,\"#9c179e\"],[0.4444444444444444,\"#bd3786\"],[0.5555555555555556,\"#d8576b\"],[0.6666666666666666,\"#ed7953\"],[0.7777777777777778,\"#fb9f3a\"],[0.8888888888888888,\"#fdca26\"],[1.0,\"#f0f921\"]]}],\"mesh3d\":[{\"type\":\"mesh3d\",\"colorbar\":{\"outlinewidth\":0,\"ticks\":\"\"}}],\"scatter\":[{\"fillpattern\":{\"fillmode\":\"overlay\",\"size\":10,\"solidity\":0.2},\"type\":\"scatter\"}],\"parcoords\":[{\"type\":\"parcoords\",\"line\":{\"colorbar\":{\"outlinewidth\":0,\"ticks\":\"\"}}}],\"scatterpolargl\":[{\"type\":\"scatterpolargl\",\"marker\":{\"colorbar\":{\"outlinewidth\":0,\"ticks\":\"\"}}}],\"bar\":[{\"error_x\":{\"color\":\"#2a3f5f\"},\"error_y\":{\"color\":\"#2a3f5f\"},\"marker\":{\"line\":{\"color\":\"#E5ECF6\",\"width\":0.5},\"pattern\":{\"fillmode\":\"overlay\",\"size\":10,\"solidity\":0.2}},\"type\":\"bar\"}],\"scattergeo\":[{\"type\":\"scattergeo\",\"marker\":{\"colorbar\":{\"outlinewidth\":0,\"ticks\":\"\"}}}],\"scatterpolar\":[{\"type\":\"scatterpolar\",\"marker\":{\"colorbar\":{\"outlinewidth\":0,\"ticks\":\"\"}}}],\"histogram\":[{\"marker\":{\"pattern\":{\"fillmode\":\"overlay\",\"size\":10,\"solidity\":0.2}},\"type\":\"histogram\"}],\"scattergl\":[{\"type\":\"scattergl\",\"marker\":{\"colorbar\":{\"outlinewidth\":0,\"ticks\":\"\"}}}],\"scatter3d\":[{\"type\":\"scatter3d\",\"line\":{\"colorbar\":{\"outlinewidth\":0,\"ticks\":\"\"}},\"marker\":{\"colorbar\":{\"outlinewidth\":0,\"ticks\":\"\"}}}],\"scattermapbox\":[{\"type\":\"scattermapbox\",\"marker\":{\"colorbar\":{\"outlinewidth\":0,\"ticks\":\"\"}}}],\"scatterternary\":[{\"type\":\"scatterternary\",\"marker\":{\"colorbar\":{\"outlinewidth\":0,\"ticks\":\"\"}}}],\"scattercarpet\":[{\"type\":\"scattercarpet\",\"marker\":{\"colorbar\":{\"outlinewidth\":0,\"ticks\":\"\"}}}],\"carpet\":[{\"aaxis\":{\"endlinecolor\":\"#2a3f5f\",\"gridcolor\":\"white\",\"linecolor\":\"white\",\"minorgridcolor\":\"white\",\"startlinecolor\":\"#2a3f5f\"},\"baxis\":{\"endlinecolor\":\"#2a3f5f\",\"gridcolor\":\"white\",\"linecolor\":\"white\",\"minorgridcolor\":\"white\",\"startlinecolor\":\"#2a3f5f\"},\"type\":\"carpet\"}],\"table\":[{\"cells\":{\"fill\":{\"color\":\"#EBF0F8\"},\"line\":{\"color\":\"white\"}},\"header\":{\"fill\":{\"color\":\"#C8D4E3\"},\"line\":{\"color\":\"white\"}},\"type\":\"table\"}],\"barpolar\":[{\"marker\":{\"line\":{\"color\":\"#E5ECF6\",\"width\":0.5},\"pattern\":{\"fillmode\":\"overlay\",\"size\":10,\"solidity\":0.2}},\"type\":\"barpolar\"}],\"pie\":[{\"automargin\":true,\"type\":\"pie\"}]},\"layout\":{\"autotypenumbers\":\"strict\",\"colorway\":[\"#636efa\",\"#EF553B\",\"#00cc96\",\"#ab63fa\",\"#FFA15A\",\"#19d3f3\",\"#FF6692\",\"#B6E880\",\"#FF97FF\",\"#FECB52\"],\"font\":{\"color\":\"#2a3f5f\"},\"hovermode\":\"closest\",\"hoverlabel\":{\"align\":\"left\"},\"paper_bgcolor\":\"white\",\"plot_bgcolor\":\"#E5ECF6\",\"polar\":{\"bgcolor\":\"#E5ECF6\",\"angularaxis\":{\"gridcolor\":\"white\",\"linecolor\":\"white\",\"ticks\":\"\"},\"radialaxis\":{\"gridcolor\":\"white\",\"linecolor\":\"white\",\"ticks\":\"\"}},\"ternary\":{\"bgcolor\":\"#E5ECF6\",\"aaxis\":{\"gridcolor\":\"white\",\"linecolor\":\"white\",\"ticks\":\"\"},\"baxis\":{\"gridcolor\":\"white\",\"linecolor\":\"white\",\"ticks\":\"\"},\"caxis\":{\"gridcolor\":\"white\",\"linecolor\":\"white\",\"ticks\":\"\"}},\"coloraxis\":{\"colorbar\":{\"outlinewidth\":0,\"ticks\":\"\"}},\"colorscale\":{\"sequential\":[[0.0,\"#0d0887\"],[0.1111111111111111,\"#46039f\"],[0.2222222222222222,\"#7201a8\"],[0.3333333333333333,\"#9c179e\"],[0.4444444444444444,\"#bd3786\"],[0.5555555555555556,\"#d8576b\"],[0.6666666666666666,\"#ed7953\"],[0.7777777777777778,\"#fb9f3a\"],[0.8888888888888888,\"#fdca26\"],[1.0,\"#f0f921\"]],\"sequentialminus\":[[0.0,\"#0d0887\"],[0.1111111111111111,\"#46039f\"],[0.2222222222222222,\"#7201a8\"],[0.3333333333333333,\"#9c179e\"],[0.4444444444444444,\"#bd3786\"],[0.5555555555555556,\"#d8576b\"],[0.6666666666666666,\"#ed7953\"],[0.7777777777777778,\"#fb9f3a\"],[0.8888888888888888,\"#fdca26\"],[1.0,\"#f0f921\"]],\"diverging\":[[0,\"#8e0152\"],[0.1,\"#c51b7d\"],[0.2,\"#de77ae\"],[0.3,\"#f1b6da\"],[0.4,\"#fde0ef\"],[0.5,\"#f7f7f7\"],[0.6,\"#e6f5d0\"],[0.7,\"#b8e186\"],[0.8,\"#7fbc41\"],[0.9,\"#4d9221\"],[1,\"#276419\"]]},\"xaxis\":{\"gridcolor\":\"white\",\"linecolor\":\"white\",\"ticks\":\"\",\"title\":{\"standoff\":15},\"zerolinecolor\":\"white\",\"automargin\":true,\"zerolinewidth\":2},\"yaxis\":{\"gridcolor\":\"white\",\"linecolor\":\"white\",\"ticks\":\"\",\"title\":{\"standoff\":15},\"zerolinecolor\":\"white\",\"automargin\":true,\"zerolinewidth\":2},\"scene\":{\"xaxis\":{\"backgroundcolor\":\"#E5ECF6\",\"gridcolor\":\"white\",\"linecolor\":\"white\",\"showbackground\":true,\"ticks\":\"\",\"zerolinecolor\":\"white\",\"gridwidth\":2},\"yaxis\":{\"backgroundcolor\":\"#E5ECF6\",\"gridcolor\":\"white\",\"linecolor\":\"white\",\"showbackground\":true,\"ticks\":\"\",\"zerolinecolor\":\"white\",\"gridwidth\":2},\"zaxis\":{\"backgroundcolor\":\"#E5ECF6\",\"gridcolor\":\"white\",\"linecolor\":\"white\",\"showbackground\":true,\"ticks\":\"\",\"zerolinecolor\":\"white\",\"gridwidth\":2}},\"shapedefaults\":{\"line\":{\"color\":\"#2a3f5f\"}},\"annotationdefaults\":{\"arrowcolor\":\"#2a3f5f\",\"arrowhead\":0,\"arrowwidth\":1},\"geo\":{\"bgcolor\":\"white\",\"landcolor\":\"#E5ECF6\",\"subunitcolor\":\"white\",\"showland\":true,\"showlakes\":true,\"lakecolor\":\"white\"},\"title\":{\"x\":0.05},\"mapbox\":{\"style\":\"light\"}}},\"title\":{\"text\":\"MRICloud Data as a Sankey Diagram\"},\"font\":{\"size\":10}},                        {\"responsive\": true}                    ).then(function(){\n",
              "                            \n",
              "var gd = document.getElementById('8a5a4986-7b82-4663-bc5a-e0731895f614');\n",
              "var x = new MutationObserver(function (mutations, observer) {{\n",
              "        var display = window.getComputedStyle(gd).display;\n",
              "        if (!display || display === 'none') {{\n",
              "            console.log([gd, 'removed!']);\n",
              "            Plotly.purge(gd);\n",
              "            observer.disconnect();\n",
              "        }}\n",
              "}});\n",
              "\n",
              "// Listen for the removal of the full notebook cells\n",
              "var notebookContainer = gd.closest('#notebook-container');\n",
              "if (notebookContainer) {{\n",
              "    x.observe(notebookContainer, {childList: true});\n",
              "}}\n",
              "\n",
              "// Listen for the clearing of the current output cell\n",
              "var outputEl = gd.closest('.output');\n",
              "if (outputEl) {{\n",
              "    x.observe(outputEl, {childList: true});\n",
              "}}\n",
              "\n",
              "                        })                };                            </script>        </div>\n",
              "</body>\n",
              "</html>"
            ]
          },
          "metadata": {}
        }
      ]
    },
    {
      "cell_type": "code",
      "source": [
        "sankey_data = go.Figure(go.Sankey(\n",
        "    node=dict(\n",
        "        pad=15,\n",
        "        thickness=20,\n",
        "        line=dict(color=\"black\", width=0.5),\n",
        "        label=[\"Intracranial Volume\", \"Gray Matter\", \"White Matter\", \"CSF\", \"Brainstem\"],\n",
        "        color=[\"blue\", \"green\", \"red\", \"orange\", \"purple\"]\n",
        "    ),\n",
        "    link=dict(\n",
        "        source=[0, 0, 0, 1, 2],  # From nodes\n",
        "        target=[1, 2, 3, 4, 4],  # To nodes\n",
        "        value=[8, 6, 4, 2, 3]    # Flow values\n",
        "    )\n",
        "))\n",
        "\n",
        "sankey_data.update_layout(title_text=\"Sankey Diagram Example\", font=dict(size=12))\n"
      ],
      "metadata": {
        "colab": {
          "base_uri": "https://localhost:8080/",
          "height": 542
        },
        "id": "bXZzSAZ8pBZy",
        "outputId": "b7b143d8-383d-4085-98cc-f5928c4e3125"
      },
      "execution_count": 26,
      "outputs": [
        {
          "output_type": "display_data",
          "data": {
            "text/html": [
              "<html>\n",
              "<head><meta charset=\"utf-8\" /></head>\n",
              "<body>\n",
              "    <div>            <script src=\"https://cdnjs.cloudflare.com/ajax/libs/mathjax/2.7.5/MathJax.js?config=TeX-AMS-MML_SVG\"></script><script type=\"text/javascript\">if (window.MathJax && window.MathJax.Hub && window.MathJax.Hub.Config) {window.MathJax.Hub.Config({SVG: {font: \"STIX-Web\"}});}</script>                <script type=\"text/javascript\">window.PlotlyConfig = {MathJaxConfig: 'local'};</script>\n",
              "        <script charset=\"utf-8\" src=\"https://cdn.plot.ly/plotly-2.35.2.min.js\"></script>                <div id=\"bc996d68-e2cd-4c57-a75f-2a7fb1d3e453\" class=\"plotly-graph-div\" style=\"height:525px; width:100%;\"></div>            <script type=\"text/javascript\">                                    window.PLOTLYENV=window.PLOTLYENV || {};                                    if (document.getElementById(\"bc996d68-e2cd-4c57-a75f-2a7fb1d3e453\")) {                    Plotly.newPlot(                        \"bc996d68-e2cd-4c57-a75f-2a7fb1d3e453\",                        [{\"link\":{\"source\":[0,0,0,1,2],\"target\":[1,2,3,4,4],\"value\":[8,6,4,2,3]},\"node\":{\"color\":[\"blue\",\"green\",\"red\",\"orange\",\"purple\"],\"label\":[\"Intracranial Volume\",\"Gray Matter\",\"White Matter\",\"CSF\",\"Brainstem\"],\"line\":{\"color\":\"black\",\"width\":0.5},\"pad\":15,\"thickness\":20},\"type\":\"sankey\"}],                        {\"template\":{\"data\":{\"histogram2dcontour\":[{\"type\":\"histogram2dcontour\",\"colorbar\":{\"outlinewidth\":0,\"ticks\":\"\"},\"colorscale\":[[0.0,\"#0d0887\"],[0.1111111111111111,\"#46039f\"],[0.2222222222222222,\"#7201a8\"],[0.3333333333333333,\"#9c179e\"],[0.4444444444444444,\"#bd3786\"],[0.5555555555555556,\"#d8576b\"],[0.6666666666666666,\"#ed7953\"],[0.7777777777777778,\"#fb9f3a\"],[0.8888888888888888,\"#fdca26\"],[1.0,\"#f0f921\"]]}],\"choropleth\":[{\"type\":\"choropleth\",\"colorbar\":{\"outlinewidth\":0,\"ticks\":\"\"}}],\"histogram2d\":[{\"type\":\"histogram2d\",\"colorbar\":{\"outlinewidth\":0,\"ticks\":\"\"},\"colorscale\":[[0.0,\"#0d0887\"],[0.1111111111111111,\"#46039f\"],[0.2222222222222222,\"#7201a8\"],[0.3333333333333333,\"#9c179e\"],[0.4444444444444444,\"#bd3786\"],[0.5555555555555556,\"#d8576b\"],[0.6666666666666666,\"#ed7953\"],[0.7777777777777778,\"#fb9f3a\"],[0.8888888888888888,\"#fdca26\"],[1.0,\"#f0f921\"]]}],\"heatmap\":[{\"type\":\"heatmap\",\"colorbar\":{\"outlinewidth\":0,\"ticks\":\"\"},\"colorscale\":[[0.0,\"#0d0887\"],[0.1111111111111111,\"#46039f\"],[0.2222222222222222,\"#7201a8\"],[0.3333333333333333,\"#9c179e\"],[0.4444444444444444,\"#bd3786\"],[0.5555555555555556,\"#d8576b\"],[0.6666666666666666,\"#ed7953\"],[0.7777777777777778,\"#fb9f3a\"],[0.8888888888888888,\"#fdca26\"],[1.0,\"#f0f921\"]]}],\"heatmapgl\":[{\"type\":\"heatmapgl\",\"colorbar\":{\"outlinewidth\":0,\"ticks\":\"\"},\"colorscale\":[[0.0,\"#0d0887\"],[0.1111111111111111,\"#46039f\"],[0.2222222222222222,\"#7201a8\"],[0.3333333333333333,\"#9c179e\"],[0.4444444444444444,\"#bd3786\"],[0.5555555555555556,\"#d8576b\"],[0.6666666666666666,\"#ed7953\"],[0.7777777777777778,\"#fb9f3a\"],[0.8888888888888888,\"#fdca26\"],[1.0,\"#f0f921\"]]}],\"contourcarpet\":[{\"type\":\"contourcarpet\",\"colorbar\":{\"outlinewidth\":0,\"ticks\":\"\"}}],\"contour\":[{\"type\":\"contour\",\"colorbar\":{\"outlinewidth\":0,\"ticks\":\"\"},\"colorscale\":[[0.0,\"#0d0887\"],[0.1111111111111111,\"#46039f\"],[0.2222222222222222,\"#7201a8\"],[0.3333333333333333,\"#9c179e\"],[0.4444444444444444,\"#bd3786\"],[0.5555555555555556,\"#d8576b\"],[0.6666666666666666,\"#ed7953\"],[0.7777777777777778,\"#fb9f3a\"],[0.8888888888888888,\"#fdca26\"],[1.0,\"#f0f921\"]]}],\"surface\":[{\"type\":\"surface\",\"colorbar\":{\"outlinewidth\":0,\"ticks\":\"\"},\"colorscale\":[[0.0,\"#0d0887\"],[0.1111111111111111,\"#46039f\"],[0.2222222222222222,\"#7201a8\"],[0.3333333333333333,\"#9c179e\"],[0.4444444444444444,\"#bd3786\"],[0.5555555555555556,\"#d8576b\"],[0.6666666666666666,\"#ed7953\"],[0.7777777777777778,\"#fb9f3a\"],[0.8888888888888888,\"#fdca26\"],[1.0,\"#f0f921\"]]}],\"mesh3d\":[{\"type\":\"mesh3d\",\"colorbar\":{\"outlinewidth\":0,\"ticks\":\"\"}}],\"scatter\":[{\"fillpattern\":{\"fillmode\":\"overlay\",\"size\":10,\"solidity\":0.2},\"type\":\"scatter\"}],\"parcoords\":[{\"type\":\"parcoords\",\"line\":{\"colorbar\":{\"outlinewidth\":0,\"ticks\":\"\"}}}],\"scatterpolargl\":[{\"type\":\"scatterpolargl\",\"marker\":{\"colorbar\":{\"outlinewidth\":0,\"ticks\":\"\"}}}],\"bar\":[{\"error_x\":{\"color\":\"#2a3f5f\"},\"error_y\":{\"color\":\"#2a3f5f\"},\"marker\":{\"line\":{\"color\":\"#E5ECF6\",\"width\":0.5},\"pattern\":{\"fillmode\":\"overlay\",\"size\":10,\"solidity\":0.2}},\"type\":\"bar\"}],\"scattergeo\":[{\"type\":\"scattergeo\",\"marker\":{\"colorbar\":{\"outlinewidth\":0,\"ticks\":\"\"}}}],\"scatterpolar\":[{\"type\":\"scatterpolar\",\"marker\":{\"colorbar\":{\"outlinewidth\":0,\"ticks\":\"\"}}}],\"histogram\":[{\"marker\":{\"pattern\":{\"fillmode\":\"overlay\",\"size\":10,\"solidity\":0.2}},\"type\":\"histogram\"}],\"scattergl\":[{\"type\":\"scattergl\",\"marker\":{\"colorbar\":{\"outlinewidth\":0,\"ticks\":\"\"}}}],\"scatter3d\":[{\"type\":\"scatter3d\",\"line\":{\"colorbar\":{\"outlinewidth\":0,\"ticks\":\"\"}},\"marker\":{\"colorbar\":{\"outlinewidth\":0,\"ticks\":\"\"}}}],\"scattermapbox\":[{\"type\":\"scattermapbox\",\"marker\":{\"colorbar\":{\"outlinewidth\":0,\"ticks\":\"\"}}}],\"scatterternary\":[{\"type\":\"scatterternary\",\"marker\":{\"colorbar\":{\"outlinewidth\":0,\"ticks\":\"\"}}}],\"scattercarpet\":[{\"type\":\"scattercarpet\",\"marker\":{\"colorbar\":{\"outlinewidth\":0,\"ticks\":\"\"}}}],\"carpet\":[{\"aaxis\":{\"endlinecolor\":\"#2a3f5f\",\"gridcolor\":\"white\",\"linecolor\":\"white\",\"minorgridcolor\":\"white\",\"startlinecolor\":\"#2a3f5f\"},\"baxis\":{\"endlinecolor\":\"#2a3f5f\",\"gridcolor\":\"white\",\"linecolor\":\"white\",\"minorgridcolor\":\"white\",\"startlinecolor\":\"#2a3f5f\"},\"type\":\"carpet\"}],\"table\":[{\"cells\":{\"fill\":{\"color\":\"#EBF0F8\"},\"line\":{\"color\":\"white\"}},\"header\":{\"fill\":{\"color\":\"#C8D4E3\"},\"line\":{\"color\":\"white\"}},\"type\":\"table\"}],\"barpolar\":[{\"marker\":{\"line\":{\"color\":\"#E5ECF6\",\"width\":0.5},\"pattern\":{\"fillmode\":\"overlay\",\"size\":10,\"solidity\":0.2}},\"type\":\"barpolar\"}],\"pie\":[{\"automargin\":true,\"type\":\"pie\"}]},\"layout\":{\"autotypenumbers\":\"strict\",\"colorway\":[\"#636efa\",\"#EF553B\",\"#00cc96\",\"#ab63fa\",\"#FFA15A\",\"#19d3f3\",\"#FF6692\",\"#B6E880\",\"#FF97FF\",\"#FECB52\"],\"font\":{\"color\":\"#2a3f5f\"},\"hovermode\":\"closest\",\"hoverlabel\":{\"align\":\"left\"},\"paper_bgcolor\":\"white\",\"plot_bgcolor\":\"#E5ECF6\",\"polar\":{\"bgcolor\":\"#E5ECF6\",\"angularaxis\":{\"gridcolor\":\"white\",\"linecolor\":\"white\",\"ticks\":\"\"},\"radialaxis\":{\"gridcolor\":\"white\",\"linecolor\":\"white\",\"ticks\":\"\"}},\"ternary\":{\"bgcolor\":\"#E5ECF6\",\"aaxis\":{\"gridcolor\":\"white\",\"linecolor\":\"white\",\"ticks\":\"\"},\"baxis\":{\"gridcolor\":\"white\",\"linecolor\":\"white\",\"ticks\":\"\"},\"caxis\":{\"gridcolor\":\"white\",\"linecolor\":\"white\",\"ticks\":\"\"}},\"coloraxis\":{\"colorbar\":{\"outlinewidth\":0,\"ticks\":\"\"}},\"colorscale\":{\"sequential\":[[0.0,\"#0d0887\"],[0.1111111111111111,\"#46039f\"],[0.2222222222222222,\"#7201a8\"],[0.3333333333333333,\"#9c179e\"],[0.4444444444444444,\"#bd3786\"],[0.5555555555555556,\"#d8576b\"],[0.6666666666666666,\"#ed7953\"],[0.7777777777777778,\"#fb9f3a\"],[0.8888888888888888,\"#fdca26\"],[1.0,\"#f0f921\"]],\"sequentialminus\":[[0.0,\"#0d0887\"],[0.1111111111111111,\"#46039f\"],[0.2222222222222222,\"#7201a8\"],[0.3333333333333333,\"#9c179e\"],[0.4444444444444444,\"#bd3786\"],[0.5555555555555556,\"#d8576b\"],[0.6666666666666666,\"#ed7953\"],[0.7777777777777778,\"#fb9f3a\"],[0.8888888888888888,\"#fdca26\"],[1.0,\"#f0f921\"]],\"diverging\":[[0,\"#8e0152\"],[0.1,\"#c51b7d\"],[0.2,\"#de77ae\"],[0.3,\"#f1b6da\"],[0.4,\"#fde0ef\"],[0.5,\"#f7f7f7\"],[0.6,\"#e6f5d0\"],[0.7,\"#b8e186\"],[0.8,\"#7fbc41\"],[0.9,\"#4d9221\"],[1,\"#276419\"]]},\"xaxis\":{\"gridcolor\":\"white\",\"linecolor\":\"white\",\"ticks\":\"\",\"title\":{\"standoff\":15},\"zerolinecolor\":\"white\",\"automargin\":true,\"zerolinewidth\":2},\"yaxis\":{\"gridcolor\":\"white\",\"linecolor\":\"white\",\"ticks\":\"\",\"title\":{\"standoff\":15},\"zerolinecolor\":\"white\",\"automargin\":true,\"zerolinewidth\":2},\"scene\":{\"xaxis\":{\"backgroundcolor\":\"#E5ECF6\",\"gridcolor\":\"white\",\"linecolor\":\"white\",\"showbackground\":true,\"ticks\":\"\",\"zerolinecolor\":\"white\",\"gridwidth\":2},\"yaxis\":{\"backgroundcolor\":\"#E5ECF6\",\"gridcolor\":\"white\",\"linecolor\":\"white\",\"showbackground\":true,\"ticks\":\"\",\"zerolinecolor\":\"white\",\"gridwidth\":2},\"zaxis\":{\"backgroundcolor\":\"#E5ECF6\",\"gridcolor\":\"white\",\"linecolor\":\"white\",\"showbackground\":true,\"ticks\":\"\",\"zerolinecolor\":\"white\",\"gridwidth\":2}},\"shapedefaults\":{\"line\":{\"color\":\"#2a3f5f\"}},\"annotationdefaults\":{\"arrowcolor\":\"#2a3f5f\",\"arrowhead\":0,\"arrowwidth\":1},\"geo\":{\"bgcolor\":\"white\",\"landcolor\":\"#E5ECF6\",\"subunitcolor\":\"white\",\"showland\":true,\"showlakes\":true,\"lakecolor\":\"white\"},\"title\":{\"x\":0.05},\"mapbox\":{\"style\":\"light\"}}},\"title\":{\"text\":\"Sankey Diagram Example\"},\"font\":{\"size\":12}},                        {\"responsive\": true}                    ).then(function(){\n",
              "                            \n",
              "var gd = document.getElementById('bc996d68-e2cd-4c57-a75f-2a7fb1d3e453');\n",
              "var x = new MutationObserver(function (mutations, observer) {{\n",
              "        var display = window.getComputedStyle(gd).display;\n",
              "        if (!display || display === 'none') {{\n",
              "            console.log([gd, 'removed!']);\n",
              "            Plotly.purge(gd);\n",
              "            observer.disconnect();\n",
              "        }}\n",
              "}});\n",
              "\n",
              "// Listen for the removal of the full notebook cells\n",
              "var notebookContainer = gd.closest('#notebook-container');\n",
              "if (notebookContainer) {{\n",
              "    x.observe(notebookContainer, {childList: true});\n",
              "}}\n",
              "\n",
              "// Listen for the clearing of the current output cell\n",
              "var outputEl = gd.closest('.output');\n",
              "if (outputEl) {{\n",
              "    x.observe(outputEl, {childList: true});\n",
              "}}\n",
              "\n",
              "                        })                };                            </script>        </div>\n",
              "</body>\n",
              "</html>"
            ]
          },
          "metadata": {}
        }
      ]
    },
    {
      "cell_type": "code",
      "source": [
        "output_html = \"sankey.html\"\n",
        "sankey_data.write_html(output_html)\n",
        "print(f\"✅ Interactive Sankey diagram saved as: {output_html}\")"
      ],
      "metadata": {
        "colab": {
          "base_uri": "https://localhost:8080/"
        },
        "id": "3lOM1tVkpOwN",
        "outputId": "0f1b6ec5-a6b2-48cb-c07b-7843a74ef0f8"
      },
      "execution_count": 27,
      "outputs": [
        {
          "output_type": "stream",
          "name": "stdout",
          "text": [
            "✅ Interactive Sankey diagram saved as: sankey.html\n"
          ]
        }
      ]
    },
    {
      "cell_type": "markdown",
      "source": [
        "## Part 3; This section is for posting SANKEY.HTML to my pubic Repository"
      ],
      "metadata": {
        "id": "Z1ufh1z9wY4I"
      }
    },
    {
      "cell_type": "markdown",
      "source": [
        "https://bitcon1.github.io/sankey-visualization/sankey.html"
      ],
      "metadata": {
        "id": "ZBKafPtmwwUc"
      }
    }
  ]
}